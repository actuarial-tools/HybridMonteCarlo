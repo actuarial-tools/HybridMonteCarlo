{
 "cells": [
  {
   "cell_type": "markdown",
   "metadata": {},
   "source": [
    "# Hybrid Monte Carlo\n",
    "\n",
    "## Performance Analysis of Model Simulation and Payoff Calculation\n",
    "\n",
    "In this notebook we analyse the computational effort for model state simulation and discounted payoff calculation. As implementation choices we consider pure Python/Numpy, Julia and C++ (QuantLib).\n",
    "\n",
    "The notebook is structured as follows:\n",
    "\n",
    "  1.  Setting up reference model and reference payoffs in Python:\n",
    "        \n",
    "        a) 2-Factor Quasi Gaussian model\n",
    "        \n",
    "        b) 10y Vanilla swap time line (similar to exposure simulation)\n",
    "\n",
    "  2.  Run Python simulation for various number of paths scenarios\n",
    "\n",
    "  3.  Convert model and payoffs to Julia and repeat simulations\n",
    "  \n",
    "  4.  (Convert model and payoffs to C++ with QuantLib and repeat simulation)\n"
   ]
  },
  {
   "source": [
    "Julia (and Python) includes are relative to top-level directory. We need to make sure we find both Python and Julia files. This seem a bit tricky for Julia and we need to include the Julia modules here."
   ],
   "cell_type": "markdown",
   "metadata": {}
  },
  {
   "cell_type": "code",
   "execution_count": 22,
   "metadata": {},
   "outputs": [],
   "source": [
    "import os\n",
    "os.chdir(r'../')\n",
    "from hybmc.wrappers.JuliaSimulation import JuliaSimulation, JuliaDiscountedAt\n",
    "from hybmc.wrappers.JuliaPayoff import JuliaPayoff, JuliaPayoffs"
   ]
  },
  {
   "source": [
    "We use a couple of standard packages and QuantLib to set up the swap intrument."
   ],
   "cell_type": "markdown",
   "metadata": {}
  },
  {
   "cell_type": "code",
   "execution_count": 23,
   "metadata": {},
   "outputs": [],
   "source": [
    "import numpy as np\n",
    "import pandas as pd\n",
    "import plotly.express as px\n",
    "import plotly.graph_objects as go\n",
    "import QuantLib as ql\n",
    "\n",
    "from timeit import default_timer as timer"
   ]
  },
  {
   "cell_type": "markdown",
   "metadata": {},
   "source": [
    "### Product and Model Setup\n",
    "\n",
    "We use a Vanilla interest rate swap as example product. The product yields a list of payoffs per observation time."
   ]
  },
  {
   "cell_type": "code",
   "execution_count": 24,
   "metadata": {},
   "outputs": [],
   "source": [
    "today     = ql.Date(5,ql.October,2020)\n",
    "ql.Settings.instance().evaluationDate = today"
   ]
  },
  {
   "cell_type": "code",
   "execution_count": 25,
   "metadata": {},
   "outputs": [],
   "source": [
    "from hybmc.products.Swap import Swap\n",
    "discYtsH   = ql.YieldTermStructureHandle(\n",
    "                 ql.FlatForward(today,0.015,ql.Actual365Fixed()))\n",
    "projYtsH   = ql.YieldTermStructureHandle(\n",
    "                 ql.FlatForward(today,0.020,ql.Actual365Fixed()))\n",
    "index      = ql.Euribor6M(projYtsH)\n",
    "startDate  = ql.Date(12,ql.October,2020)\n",
    "endDate    = ql.Date(12,ql.October,2030)\n",
    "calendar   = ql.TARGET()\n",
    "fixedTenor = ql.Period('1y')\n",
    "floatTenor = ql.Period('6m')\n",
    "fixedSchedule = ql.MakeSchedule(startDate,endDate,tenor=fixedTenor,calendar=calendar)\n",
    "floatSchedule = ql.MakeSchedule(startDate,endDate,tenor=floatTenor,calendar=calendar)\n",
    "couponDayCount = ql.Thirty360()\n",
    "notional   = 1.0\n",
    "fixedRate  = 0.02\n",
    "fixedLeg   = ql.FixedRateLeg(fixedSchedule,couponDayCount,[notional],[fixedRate])\n",
    "floatingLeg = ql.IborLeg([notional],floatSchedule,index)\n",
    "#\n",
    "swap = Swap([fixedLeg,floatingLeg],[1.0,-1.0],discYtsH)"
   ]
  },
  {
   "cell_type": "markdown",
   "metadata": {},
   "source": [
    "The swap product provides the basis for our payoffs. We calculae payoffs for a time line of annual observation times."
   ]
  },
  {
   "cell_type": "code",
   "execution_count": 26,
   "metadata": {},
   "outputs": [
    {
     "output_type": "display_data",
     "data": {
      "text/plain": "<hybmc.products.Swap.Swap at 0x2a2d743f888>"
     },
     "metadata": {}
    }
   ],
   "source": [
    "display(swap)\n",
    "observationTimes = np.linspace(0.0,10.0,11)\n",
    "timeline = swap.timeLine(observationTimes)\n",
    "#display(timeline)"
   ]
  },
  {
   "cell_type": "markdown",
   "metadata": {},
   "source": [
    "As reference model we use a 2-factor Quasi Gaussian model:"
   ]
  },
  {
   "cell_type": "code",
   "execution_count": 27,
   "metadata": {},
   "outputs": [],
   "source": [
    "from hybmc.termstructures.YieldCurve import YieldCurve\n",
    "from hybmc.models.QuasiGaussianModel import QuasiGaussianModel\n",
    "\n",
    "yc = YieldCurve(0.02)\n",
    "d = 2\n",
    "times = np.array(  [ 1.0,    5.0,   10.0    ])\n",
    "sigma = np.array([ [ 0.0050, 0.0060, 0.0070 ],\n",
    "                   [ 0.0050, 0.0060, 0.0070 ] ])\n",
    "slope = np.array([ [ 0.0100, 0.0100, 0.0100 ],\n",
    "                   [ 0.0200, 0.0200, 0.0200 ] ])\n",
    "curve = np.array([ [ 0.0000, 0.0000, 0.0000 ],\n",
    "                   [ 0.0000, 0.0000, 0.0000 ] ])\n",
    "delta = np.array(  [ 1.0,  20.0 ])\n",
    "chi   = np.array(  [ 0.01, 0.15 ])\n",
    "Gamma = np.identity(2)\n",
    "\n",
    "model = QuasiGaussianModel(yc,d,times,sigma,slope,curve,delta,chi,Gamma)"
   ]
  },
  {
   "cell_type": "markdown",
   "metadata": {},
   "source": [
    "We also specify the scenarios in terms of number of Monte Carlo paths. Also we set some further parameters for simulation."
   ]
  },
  {
   "cell_type": "code",
   "execution_count": 28,
   "metadata": {},
   "outputs": [],
   "source": [
    "# nPathScenarios = np.array([ 2**k for k in [7, 8, 9, 10, 11 ] ])\n",
    "nPathScenarios = np.array([ 2**k for k in [7, 8, 9, 10, 11, 12, 13, 14] ])\n",
    "# simTimes = np.array([0.0, 10.0, 11])\n",
    "simTimes = observationTimes\n",
    "seed = 314159\n",
    "timeInterpolation = True"
   ]
  },
  {
   "cell_type": "markdown",
   "metadata": {},
   "source": [
    "### Python simulation\n",
    "\n"
   ]
  },
  {
   "cell_type": "markdown",
   "metadata": {},
   "source": [
    "A time line is a map of observation times to list of payoffs. We can calculate the scenarios as follows:"
   ]
  },
  {
   "cell_type": "code",
   "execution_count": 29,
   "metadata": {},
   "outputs": [],
   "source": [
    "def scenariosPython(timeLine, sim):\n",
    "    return np.array([ \n",
    "        [ sum([ payoff.discountedAt(path) for payoff in timeLine[t] ]) for t in timeLine ]\n",
    "        for path in sim.paths() ])"
   ]
  },
  {
   "cell_type": "markdown",
   "metadata": {},
   "source": [
    "This allows now to script the Python run."
   ]
  },
  {
   "cell_type": "code",
   "execution_count": 30,
   "metadata": {},
   "outputs": [
    {
     "output_type": "stream",
     "name": "stdout",
     "text": [
      "nPaths:    128  sim_time:   0.26  pay_time:   1.47\n",
      "nPaths:    256  sim_time:   0.40  pay_time:   2.98\n",
      "nPaths:    512  sim_time:   0.85  pay_time:   6.03\n",
      "nPaths:   1024  sim_time:   1.60  pay_time:  11.79\n",
      "nPaths:   2048  sim_time:   3.32  pay_time:  23.44\n",
      "nPaths:   4096  sim_time:   6.48  pay_time:  46.92\n",
      "nPaths:   8192  sim_time:  12.96  pay_time:  93.61\n",
      "nPaths:  16384  sim_time:  25.39  pay_time: 178.51\n"
     ]
    }
   ],
   "source": [
    "from hybmc.simulations.McSimulation import McSimulation\n",
    "\n",
    "def pythonRun():\n",
    "    results = {}\n",
    "    for nPaths in nPathScenarios:\n",
    "        print('nPaths: %6d' % nPaths, end='', flush=True )\n",
    "        start = timer()\n",
    "        sim = McSimulation(model,simTimes,nPaths,seed,timeInterpolation, False)\n",
    "        stop = timer()\n",
    "        sim_time = stop - start\n",
    "        print('  sim_time: %6.2f' % sim_time, end='', flush=True )\n",
    "        start = timer()\n",
    "        scenarios = scenariosPython(timeline,sim)\n",
    "        stop = timer()\n",
    "        pay_time = stop - start\n",
    "        print('  pay_time: %6.2f' % pay_time, end='\\n', flush=True )\n",
    "        npvs = np.average(scenarios,axis=0)\n",
    "        #print(npvs.shape)\n",
    "        results[nPaths] = {\n",
    "            'sim_time' : sim_time,\n",
    "            'pay_time' : pay_time,\n",
    "            'scen_npv' : npvs\n",
    "        }\n",
    "    return results\n",
    "\n",
    "pythonResults = pythonRun()"
   ]
  },
  {
   "cell_type": "markdown",
   "metadata": {},
   "source": [
    "### Julia Simulation\n",
    "\n",
    "We need a reference Python simulation from which we can build the Julia simulation"
   ]
  },
  {
   "cell_type": "code",
   "execution_count": 31,
   "metadata": {},
   "outputs": [],
   "source": [
    "from hybmc.simulations.McSimulation import McSimulation\n",
    "sim = McSimulation(model,simTimes,1,seed,timeInterpolation, False)"
   ]
  },
  {
   "cell_type": "code",
   "execution_count": 32,
   "metadata": {},
   "outputs": [],
   "source": [
    "jTimeline = { t : JuliaPayoffs(timeline[t]) for t in timeline }"
   ]
  },
  {
   "cell_type": "code",
   "execution_count": 33,
   "metadata": {},
   "outputs": [],
   "source": [
    "def scenariosJulia(jTimeline, jSim):\n",
    "    return np.array([ np.sum(JuliaDiscountedAt(jSim,jTimeline[t]),axis=0)\n",
    "        for t in jTimeline ])"
   ]
  },
  {
   "source": [
    "Now we can script the Julia run."
   ],
   "cell_type": "markdown",
   "metadata": {}
  },
  {
   "cell_type": "code",
   "execution_count": 34,
   "metadata": {},
   "outputs": [
    {
     "output_type": "stream",
     "name": "stdout",
     "text": [
      "nPaths:    128  sim_time:   0.02  pay_time:   1.43\n",
      "nPaths:    256  sim_time:   0.03  pay_time:   1.49\n",
      "nPaths:    512  sim_time:   0.07  pay_time:   1.69\n",
      "nPaths:   1024  sim_time:   0.11  pay_time:   2.07\n",
      "nPaths:   2048  sim_time:   0.23  pay_time:   2.83\n",
      "nPaths:   4096  sim_time:   0.42  pay_time:   4.56\n",
      "nPaths:   8192  sim_time:   0.85  pay_time:   7.32\n",
      "nPaths:  16384  sim_time:   1.83  pay_time:  13.35\n"
     ]
    }
   ],
   "source": [
    "def juliaRun():\n",
    "    results = {}\n",
    "    for nPaths in nPathScenarios:\n",
    "        print('nPaths: %6d' % nPaths, end='', flush=True )\n",
    "        start = timer()\n",
    "        jSim = JuliaSimulation(sim,simulate=True,nPaths=int(nPaths))\n",
    "        stop = timer()\n",
    "        sim_time = stop - start\n",
    "        print('  sim_time: %6.2f' % sim_time, end='', flush=True )\n",
    "        start = timer()\n",
    "        scenarios = scenariosJulia(jTimeline, jSim)\n",
    "        stop = timer()\n",
    "        pay_time = stop - start\n",
    "        print('  pay_time: %6.2f' % pay_time, end='\\n', flush=True )\n",
    "        npvs = np.average(scenarios,axis=1)\n",
    "        #print(npvs.shape)\n",
    "        results[nPaths] = {\n",
    "            'sim_time' : sim_time,\n",
    "            'pay_time' : pay_time,\n",
    "            'scen_npv' : npvs\n",
    "        }\n",
    "    return results\n",
    "\n",
    "juliaResults = juliaRun()"
   ]
  },
  {
   "source": [
    "### C++ (QuantLib) Simulation\n",
    "\n",
    "*\n",
    "The following code requires a custom QuantLib library, see https://github.com/sschlenkrich/QuantLib.\n",
    "If you do not have QuantLib or if it does not work then disable via the flag 'useQuantLib'.\n",
    "*"
   ],
   "cell_type": "markdown",
   "metadata": {}
  },
  {
   "cell_type": "code",
   "execution_count": 35,
   "metadata": {},
   "outputs": [],
   "source": [
    "useQuantLib = True"
   ]
  },
  {
   "cell_type": "code",
   "execution_count": 36,
   "metadata": {},
   "outputs": [],
   "source": [
    "if useQuantLib:\n",
    "    from hybmc.wrappers.QuantLibSimulation import QuantLibSimulation, QuantLibDiscountedAt\n",
    "    from hybmc.wrappers.QuantLibPayoffs import QuantLibPayoff, QuantLibPayoffs"
   ]
  },
  {
   "cell_type": "code",
   "execution_count": 37,
   "metadata": {},
   "outputs": [],
   "source": [
    "if useQuantLib:\n",
    "    qTimeline = { t : QuantLibPayoffs(timeline[t]) for t in timeline }"
   ]
  },
  {
   "cell_type": "code",
   "execution_count": 38,
   "metadata": {},
   "outputs": [],
   "source": [
    "def scenariosQuantLib(qTimeline, qSim):\n",
    "    return np.array([ np.sum(QuantLibDiscountedAt(qSim,qTimeline[t]),axis=0)\n",
    "        for t in qTimeline ])"
   ]
  },
  {
   "cell_type": "code",
   "execution_count": 39,
   "metadata": {},
   "outputs": [
    {
     "output_type": "stream",
     "name": "stdout",
     "text": [
      "nPaths:    128  sim_time:   0.01  pay_time:   0.02\n",
      "nPaths:    256  sim_time:   0.01  pay_time:   0.04\n",
      "nPaths:    512  sim_time:   0.01  pay_time:   0.08\n",
      "nPaths:   1024  sim_time:   0.03  pay_time:   0.15\n",
      "nPaths:   2048  sim_time:   0.06  pay_time:   0.29\n",
      "nPaths:   4096  sim_time:   0.12  pay_time:   0.59\n",
      "nPaths:   8192  sim_time:   0.22  pay_time:   1.23\n",
      "nPaths:  16384  sim_time:   0.43  pay_time:   2.56\n"
     ]
    }
   ],
   "source": [
    "def quantLibRun():\n",
    "    results = {}\n",
    "    for nPaths in nPathScenarios:\n",
    "        print('nPaths: %6d' % nPaths, end='', flush=True )\n",
    "        start = timer()\n",
    "        qSim = QuantLibSimulation(sim,nPaths=int(nPaths))\n",
    "        stop = timer()\n",
    "        sim_time = stop - start\n",
    "        print('  sim_time: %6.2f' % sim_time, end='', flush=True )\n",
    "        start = timer()\n",
    "        scenarios = scenariosQuantLib(qTimeline, qSim)\n",
    "        stop = timer()\n",
    "        pay_time = stop - start\n",
    "        print('  pay_time: %6.2f' % pay_time, end='\\n', flush=True )\n",
    "        npvs = np.average(scenarios,axis=1)\n",
    "        #print(npvs.shape)\n",
    "        results[nPaths] = {\n",
    "            'sim_time' : sim_time,\n",
    "            'pay_time' : pay_time,\n",
    "            'scen_npv' : npvs\n",
    "        }\n",
    "    return results\n",
    "\n",
    "if useQuantLib:\n",
    "    quantLibResults = quantLibRun()"
   ]
  },
  {
   "source": [
    "### Comparison of Python and Julia and C++ (QuantLib)"
   ],
   "cell_type": "markdown",
   "metadata": {}
  },
  {
   "cell_type": "code",
   "execution_count": 40,
   "metadata": {},
   "outputs": [],
   "source": [
    "table = pd.DataFrame(nPathScenarios, columns=['nPaths'])\n",
    "sim_time_cols = []\n",
    "pay_time_cols = []\n",
    "\n",
    "try:\n",
    "    table['Python_sim_time'] = [ pythonResults[k]['sim_time'] for k in pythonResults ]\n",
    "    table['Python_pay_time'] = [ pythonResults[k]['pay_time'] for k in pythonResults ]\n",
    "    sim_time_cols += ['Python_sim_time']\n",
    "    pay_time_cols += ['Python_pay_time']\n",
    "except NameError:\n",
    "    print('Warning: No Python results available.')\n",
    "\n",
    "try:\n",
    "    table['Julia_sim_time'] = [ juliaResults[k]['sim_time'] for k in juliaResults ]\n",
    "    table['Julia_pay_time'] = [ juliaResults[k]['pay_time'] for k in juliaResults ]\n",
    "    sim_time_cols += ['Julia_sim_time']\n",
    "    pay_time_cols += ['Julia_pay_time']\n",
    "except NameError:\n",
    "    print('Warning: No Julia results available.')\n",
    "\n",
    "try:\n",
    "    table['QuantLib_sim_time'] = [ quantLibResults[k]['sim_time'] for k in quantLibResults ]\n",
    "    table['QuantLib_pay_time'] = [ quantLibResults[k]['pay_time'] for k in quantLibResults ]\n",
    "    sim_time_cols += ['QuantLib_sim_time']\n",
    "    pay_time_cols += ['QuantLib_pay_time']\n",
    "except NameError:\n",
    "    print('Warning: No QuantLib results available.')"
   ]
  },
  {
   "cell_type": "code",
   "execution_count": 41,
   "metadata": {},
   "outputs": [
    {
     "output_type": "display_data",
     "data": {
      "application/vnd.plotly.v1+json": {
       "config": {
        "plotlyServerURL": "https://plot.ly"
       },
       "data": [
        {
         "hovertemplate": "variable=Python_sim_time<br>nPaths=%{x}<br>run time (s)=%{y}<extra></extra>",
         "legendgroup": "Python_sim_time",
         "line": {
          "color": "#636efa",
          "dash": "solid"
         },
         "mode": "lines",
         "name": "Python_sim_time",
         "orientation": "v",
         "showlegend": true,
         "type": "scatter",
         "x": [
          128,
          256,
          512,
          1024,
          2048,
          4096,
          8192,
          16384
         ],
         "xaxis": "x",
         "y": [
          0.2604084000000171,
          0.3965795999999955,
          0.8452023000000111,
          1.6021637000000055,
          3.3185921999999834,
          6.4785678000000075,
          12.957637499999976,
          25.387123700000018
         ],
         "yaxis": "y"
        },
        {
         "hovertemplate": "variable=Julia_sim_time<br>nPaths=%{x}<br>run time (s)=%{y}<extra></extra>",
         "legendgroup": "Julia_sim_time",
         "line": {
          "color": "#EF553B",
          "dash": "solid"
         },
         "mode": "lines",
         "name": "Julia_sim_time",
         "orientation": "v",
         "showlegend": true,
         "type": "scatter",
         "x": [
          128,
          256,
          512,
          1024,
          2048,
          4096,
          8192,
          16384
         ],
         "xaxis": "x",
         "y": [
          0.023300800000015442,
          0.028128700000024764,
          0.06703459999994266,
          0.11129210000001422,
          0.22568219999993744,
          0.4200903000000835,
          0.8543224000000009,
          1.8308711999999332
         ],
         "yaxis": "y"
        },
        {
         "hovertemplate": "variable=QuantLib_sim_time<br>nPaths=%{x}<br>run time (s)=%{y}<extra></extra>",
         "legendgroup": "QuantLib_sim_time",
         "line": {
          "color": "#00cc96",
          "dash": "solid"
         },
         "mode": "lines",
         "name": "QuantLib_sim_time",
         "orientation": "v",
         "showlegend": true,
         "type": "scatter",
         "x": [
          128,
          256,
          512,
          1024,
          2048,
          4096,
          8192,
          16384
         ],
         "xaxis": "x",
         "y": [
          0.007037400000058369,
          0.008971800000040275,
          0.014812600000027487,
          0.029476799999997638,
          0.05620339999995849,
          0.11556060000009438,
          0.21859740000002148,
          0.43244770000001154
         ],
         "yaxis": "y"
        }
       ],
       "layout": {
        "legend": {
         "title": {
          "text": "variable"
         },
         "tracegroupgap": 0
        },
        "margin": {
         "t": 60
        },
        "template": {
         "data": {
          "bar": [
           {
            "error_x": {
             "color": "#2a3f5f"
            },
            "error_y": {
             "color": "#2a3f5f"
            },
            "marker": {
             "line": {
              "color": "#E5ECF6",
              "width": 0.5
             }
            },
            "type": "bar"
           }
          ],
          "barpolar": [
           {
            "marker": {
             "line": {
              "color": "#E5ECF6",
              "width": 0.5
             }
            },
            "type": "barpolar"
           }
          ],
          "carpet": [
           {
            "aaxis": {
             "endlinecolor": "#2a3f5f",
             "gridcolor": "white",
             "linecolor": "white",
             "minorgridcolor": "white",
             "startlinecolor": "#2a3f5f"
            },
            "baxis": {
             "endlinecolor": "#2a3f5f",
             "gridcolor": "white",
             "linecolor": "white",
             "minorgridcolor": "white",
             "startlinecolor": "#2a3f5f"
            },
            "type": "carpet"
           }
          ],
          "choropleth": [
           {
            "colorbar": {
             "outlinewidth": 0,
             "ticks": ""
            },
            "type": "choropleth"
           }
          ],
          "contour": [
           {
            "colorbar": {
             "outlinewidth": 0,
             "ticks": ""
            },
            "colorscale": [
             [
              0,
              "#0d0887"
             ],
             [
              0.1111111111111111,
              "#46039f"
             ],
             [
              0.2222222222222222,
              "#7201a8"
             ],
             [
              0.3333333333333333,
              "#9c179e"
             ],
             [
              0.4444444444444444,
              "#bd3786"
             ],
             [
              0.5555555555555556,
              "#d8576b"
             ],
             [
              0.6666666666666666,
              "#ed7953"
             ],
             [
              0.7777777777777778,
              "#fb9f3a"
             ],
             [
              0.8888888888888888,
              "#fdca26"
             ],
             [
              1,
              "#f0f921"
             ]
            ],
            "type": "contour"
           }
          ],
          "contourcarpet": [
           {
            "colorbar": {
             "outlinewidth": 0,
             "ticks": ""
            },
            "type": "contourcarpet"
           }
          ],
          "heatmap": [
           {
            "colorbar": {
             "outlinewidth": 0,
             "ticks": ""
            },
            "colorscale": [
             [
              0,
              "#0d0887"
             ],
             [
              0.1111111111111111,
              "#46039f"
             ],
             [
              0.2222222222222222,
              "#7201a8"
             ],
             [
              0.3333333333333333,
              "#9c179e"
             ],
             [
              0.4444444444444444,
              "#bd3786"
             ],
             [
              0.5555555555555556,
              "#d8576b"
             ],
             [
              0.6666666666666666,
              "#ed7953"
             ],
             [
              0.7777777777777778,
              "#fb9f3a"
             ],
             [
              0.8888888888888888,
              "#fdca26"
             ],
             [
              1,
              "#f0f921"
             ]
            ],
            "type": "heatmap"
           }
          ],
          "heatmapgl": [
           {
            "colorbar": {
             "outlinewidth": 0,
             "ticks": ""
            },
            "colorscale": [
             [
              0,
              "#0d0887"
             ],
             [
              0.1111111111111111,
              "#46039f"
             ],
             [
              0.2222222222222222,
              "#7201a8"
             ],
             [
              0.3333333333333333,
              "#9c179e"
             ],
             [
              0.4444444444444444,
              "#bd3786"
             ],
             [
              0.5555555555555556,
              "#d8576b"
             ],
             [
              0.6666666666666666,
              "#ed7953"
             ],
             [
              0.7777777777777778,
              "#fb9f3a"
             ],
             [
              0.8888888888888888,
              "#fdca26"
             ],
             [
              1,
              "#f0f921"
             ]
            ],
            "type": "heatmapgl"
           }
          ],
          "histogram": [
           {
            "marker": {
             "colorbar": {
              "outlinewidth": 0,
              "ticks": ""
             }
            },
            "type": "histogram"
           }
          ],
          "histogram2d": [
           {
            "colorbar": {
             "outlinewidth": 0,
             "ticks": ""
            },
            "colorscale": [
             [
              0,
              "#0d0887"
             ],
             [
              0.1111111111111111,
              "#46039f"
             ],
             [
              0.2222222222222222,
              "#7201a8"
             ],
             [
              0.3333333333333333,
              "#9c179e"
             ],
             [
              0.4444444444444444,
              "#bd3786"
             ],
             [
              0.5555555555555556,
              "#d8576b"
             ],
             [
              0.6666666666666666,
              "#ed7953"
             ],
             [
              0.7777777777777778,
              "#fb9f3a"
             ],
             [
              0.8888888888888888,
              "#fdca26"
             ],
             [
              1,
              "#f0f921"
             ]
            ],
            "type": "histogram2d"
           }
          ],
          "histogram2dcontour": [
           {
            "colorbar": {
             "outlinewidth": 0,
             "ticks": ""
            },
            "colorscale": [
             [
              0,
              "#0d0887"
             ],
             [
              0.1111111111111111,
              "#46039f"
             ],
             [
              0.2222222222222222,
              "#7201a8"
             ],
             [
              0.3333333333333333,
              "#9c179e"
             ],
             [
              0.4444444444444444,
              "#bd3786"
             ],
             [
              0.5555555555555556,
              "#d8576b"
             ],
             [
              0.6666666666666666,
              "#ed7953"
             ],
             [
              0.7777777777777778,
              "#fb9f3a"
             ],
             [
              0.8888888888888888,
              "#fdca26"
             ],
             [
              1,
              "#f0f921"
             ]
            ],
            "type": "histogram2dcontour"
           }
          ],
          "mesh3d": [
           {
            "colorbar": {
             "outlinewidth": 0,
             "ticks": ""
            },
            "type": "mesh3d"
           }
          ],
          "parcoords": [
           {
            "line": {
             "colorbar": {
              "outlinewidth": 0,
              "ticks": ""
             }
            },
            "type": "parcoords"
           }
          ],
          "pie": [
           {
            "automargin": true,
            "type": "pie"
           }
          ],
          "scatter": [
           {
            "marker": {
             "colorbar": {
              "outlinewidth": 0,
              "ticks": ""
             }
            },
            "type": "scatter"
           }
          ],
          "scatter3d": [
           {
            "line": {
             "colorbar": {
              "outlinewidth": 0,
              "ticks": ""
             }
            },
            "marker": {
             "colorbar": {
              "outlinewidth": 0,
              "ticks": ""
             }
            },
            "type": "scatter3d"
           }
          ],
          "scattercarpet": [
           {
            "marker": {
             "colorbar": {
              "outlinewidth": 0,
              "ticks": ""
             }
            },
            "type": "scattercarpet"
           }
          ],
          "scattergeo": [
           {
            "marker": {
             "colorbar": {
              "outlinewidth": 0,
              "ticks": ""
             }
            },
            "type": "scattergeo"
           }
          ],
          "scattergl": [
           {
            "marker": {
             "colorbar": {
              "outlinewidth": 0,
              "ticks": ""
             }
            },
            "type": "scattergl"
           }
          ],
          "scattermapbox": [
           {
            "marker": {
             "colorbar": {
              "outlinewidth": 0,
              "ticks": ""
             }
            },
            "type": "scattermapbox"
           }
          ],
          "scatterpolar": [
           {
            "marker": {
             "colorbar": {
              "outlinewidth": 0,
              "ticks": ""
             }
            },
            "type": "scatterpolar"
           }
          ],
          "scatterpolargl": [
           {
            "marker": {
             "colorbar": {
              "outlinewidth": 0,
              "ticks": ""
             }
            },
            "type": "scatterpolargl"
           }
          ],
          "scatterternary": [
           {
            "marker": {
             "colorbar": {
              "outlinewidth": 0,
              "ticks": ""
             }
            },
            "type": "scatterternary"
           }
          ],
          "surface": [
           {
            "colorbar": {
             "outlinewidth": 0,
             "ticks": ""
            },
            "colorscale": [
             [
              0,
              "#0d0887"
             ],
             [
              0.1111111111111111,
              "#46039f"
             ],
             [
              0.2222222222222222,
              "#7201a8"
             ],
             [
              0.3333333333333333,
              "#9c179e"
             ],
             [
              0.4444444444444444,
              "#bd3786"
             ],
             [
              0.5555555555555556,
              "#d8576b"
             ],
             [
              0.6666666666666666,
              "#ed7953"
             ],
             [
              0.7777777777777778,
              "#fb9f3a"
             ],
             [
              0.8888888888888888,
              "#fdca26"
             ],
             [
              1,
              "#f0f921"
             ]
            ],
            "type": "surface"
           }
          ],
          "table": [
           {
            "cells": {
             "fill": {
              "color": "#EBF0F8"
             },
             "line": {
              "color": "white"
             }
            },
            "header": {
             "fill": {
              "color": "#C8D4E3"
             },
             "line": {
              "color": "white"
             }
            },
            "type": "table"
           }
          ]
         },
         "layout": {
          "annotationdefaults": {
           "arrowcolor": "#2a3f5f",
           "arrowhead": 0,
           "arrowwidth": 1
          },
          "coloraxis": {
           "colorbar": {
            "outlinewidth": 0,
            "ticks": ""
           }
          },
          "colorscale": {
           "diverging": [
            [
             0,
             "#8e0152"
            ],
            [
             0.1,
             "#c51b7d"
            ],
            [
             0.2,
             "#de77ae"
            ],
            [
             0.3,
             "#f1b6da"
            ],
            [
             0.4,
             "#fde0ef"
            ],
            [
             0.5,
             "#f7f7f7"
            ],
            [
             0.6,
             "#e6f5d0"
            ],
            [
             0.7,
             "#b8e186"
            ],
            [
             0.8,
             "#7fbc41"
            ],
            [
             0.9,
             "#4d9221"
            ],
            [
             1,
             "#276419"
            ]
           ],
           "sequential": [
            [
             0,
             "#0d0887"
            ],
            [
             0.1111111111111111,
             "#46039f"
            ],
            [
             0.2222222222222222,
             "#7201a8"
            ],
            [
             0.3333333333333333,
             "#9c179e"
            ],
            [
             0.4444444444444444,
             "#bd3786"
            ],
            [
             0.5555555555555556,
             "#d8576b"
            ],
            [
             0.6666666666666666,
             "#ed7953"
            ],
            [
             0.7777777777777778,
             "#fb9f3a"
            ],
            [
             0.8888888888888888,
             "#fdca26"
            ],
            [
             1,
             "#f0f921"
            ]
           ],
           "sequentialminus": [
            [
             0,
             "#0d0887"
            ],
            [
             0.1111111111111111,
             "#46039f"
            ],
            [
             0.2222222222222222,
             "#7201a8"
            ],
            [
             0.3333333333333333,
             "#9c179e"
            ],
            [
             0.4444444444444444,
             "#bd3786"
            ],
            [
             0.5555555555555556,
             "#d8576b"
            ],
            [
             0.6666666666666666,
             "#ed7953"
            ],
            [
             0.7777777777777778,
             "#fb9f3a"
            ],
            [
             0.8888888888888888,
             "#fdca26"
            ],
            [
             1,
             "#f0f921"
            ]
           ]
          },
          "colorway": [
           "#636efa",
           "#EF553B",
           "#00cc96",
           "#ab63fa",
           "#FFA15A",
           "#19d3f3",
           "#FF6692",
           "#B6E880",
           "#FF97FF",
           "#FECB52"
          ],
          "font": {
           "color": "#2a3f5f"
          },
          "geo": {
           "bgcolor": "white",
           "lakecolor": "white",
           "landcolor": "#E5ECF6",
           "showlakes": true,
           "showland": true,
           "subunitcolor": "white"
          },
          "hoverlabel": {
           "align": "left"
          },
          "hovermode": "closest",
          "mapbox": {
           "style": "light"
          },
          "paper_bgcolor": "white",
          "plot_bgcolor": "#E5ECF6",
          "polar": {
           "angularaxis": {
            "gridcolor": "white",
            "linecolor": "white",
            "ticks": ""
           },
           "bgcolor": "#E5ECF6",
           "radialaxis": {
            "gridcolor": "white",
            "linecolor": "white",
            "ticks": ""
           }
          },
          "scene": {
           "xaxis": {
            "backgroundcolor": "#E5ECF6",
            "gridcolor": "white",
            "gridwidth": 2,
            "linecolor": "white",
            "showbackground": true,
            "ticks": "",
            "zerolinecolor": "white"
           },
           "yaxis": {
            "backgroundcolor": "#E5ECF6",
            "gridcolor": "white",
            "gridwidth": 2,
            "linecolor": "white",
            "showbackground": true,
            "ticks": "",
            "zerolinecolor": "white"
           },
           "zaxis": {
            "backgroundcolor": "#E5ECF6",
            "gridcolor": "white",
            "gridwidth": 2,
            "linecolor": "white",
            "showbackground": true,
            "ticks": "",
            "zerolinecolor": "white"
           }
          },
          "shapedefaults": {
           "line": {
            "color": "#2a3f5f"
           }
          },
          "ternary": {
           "aaxis": {
            "gridcolor": "white",
            "linecolor": "white",
            "ticks": ""
           },
           "baxis": {
            "gridcolor": "white",
            "linecolor": "white",
            "ticks": ""
           },
           "bgcolor": "#E5ECF6",
           "caxis": {
            "gridcolor": "white",
            "linecolor": "white",
            "ticks": ""
           }
          },
          "title": {
           "x": 0.05
          },
          "xaxis": {
           "automargin": true,
           "gridcolor": "white",
           "linecolor": "white",
           "ticks": "",
           "title": {
            "standoff": 15
           },
           "zerolinecolor": "white",
           "zerolinewidth": 2
          },
          "yaxis": {
           "automargin": true,
           "gridcolor": "white",
           "linecolor": "white",
           "ticks": "",
           "title": {
            "standoff": 15
           },
           "zerolinecolor": "white",
           "zerolinewidth": 2
          }
         }
        },
        "xaxis": {
         "anchor": "y",
         "domain": [
          0,
          1
         ],
         "title": {
          "text": "nPaths"
         },
         "type": "log"
        },
        "yaxis": {
         "anchor": "x",
         "domain": [
          0,
          1
         ],
         "title": {
          "text": "run time (s)"
         },
         "type": "log"
        }
       }
      }
     },
     "metadata": {}
    }
   ],
   "source": [
    "fig = px.line(table, x='nPaths', y = sim_time_cols, labels={ 'value' : 'run time (s)' } ,log_x=True, log_y=True)\n",
    "fig.show()"
   ]
  },
  {
   "cell_type": "code",
   "execution_count": 42,
   "metadata": {},
   "outputs": [
    {
     "output_type": "display_data",
     "data": {
      "application/vnd.plotly.v1+json": {
       "config": {
        "plotlyServerURL": "https://plot.ly"
       },
       "data": [
        {
         "hovertemplate": "variable=Python_pay_time<br>nPaths=%{x}<br>run time (s)=%{y}<extra></extra>",
         "legendgroup": "Python_pay_time",
         "line": {
          "color": "#636efa",
          "dash": "solid"
         },
         "mode": "lines",
         "name": "Python_pay_time",
         "orientation": "v",
         "showlegend": true,
         "type": "scatter",
         "x": [
          128,
          256,
          512,
          1024,
          2048,
          4096,
          8192,
          16384
         ],
         "xaxis": "x",
         "y": [
          1.4659926999999868,
          2.9771027000000174,
          6.030511000000018,
          11.793233200000003,
          23.438858299999993,
          46.921893899999986,
          93.61473219999999,
          178.5149298
         ],
         "yaxis": "y"
        },
        {
         "hovertemplate": "variable=Julia_pay_time<br>nPaths=%{x}<br>run time (s)=%{y}<extra></extra>",
         "legendgroup": "Julia_pay_time",
         "line": {
          "color": "#EF553B",
          "dash": "solid"
         },
         "mode": "lines",
         "name": "Julia_pay_time",
         "orientation": "v",
         "showlegend": true,
         "type": "scatter",
         "x": [
          128,
          256,
          512,
          1024,
          2048,
          4096,
          8192,
          16384
         ],
         "xaxis": "x",
         "y": [
          1.4293852000000697,
          1.493940000000066,
          1.6930105999999796,
          2.0728284000000485,
          2.8321114999999963,
          4.56367750000004,
          7.315287800000078,
          13.349445999999944
         ],
         "yaxis": "y"
        },
        {
         "hovertemplate": "variable=QuantLib_pay_time<br>nPaths=%{x}<br>run time (s)=%{y}<extra></extra>",
         "legendgroup": "QuantLib_pay_time",
         "line": {
          "color": "#00cc96",
          "dash": "solid"
         },
         "mode": "lines",
         "name": "QuantLib_pay_time",
         "orientation": "v",
         "showlegend": true,
         "type": "scatter",
         "x": [
          128,
          256,
          512,
          1024,
          2048,
          4096,
          8192,
          16384
         ],
         "xaxis": "x",
         "y": [
          0.02486480000004576,
          0.04420879999997851,
          0.07678620000001501,
          0.14984270000002198,
          0.2932629999999108,
          0.5869646999999532,
          1.2273790000000417,
          2.563611299999934
         ],
         "yaxis": "y"
        }
       ],
       "layout": {
        "legend": {
         "title": {
          "text": "variable"
         },
         "tracegroupgap": 0
        },
        "margin": {
         "t": 60
        },
        "template": {
         "data": {
          "bar": [
           {
            "error_x": {
             "color": "#2a3f5f"
            },
            "error_y": {
             "color": "#2a3f5f"
            },
            "marker": {
             "line": {
              "color": "#E5ECF6",
              "width": 0.5
             }
            },
            "type": "bar"
           }
          ],
          "barpolar": [
           {
            "marker": {
             "line": {
              "color": "#E5ECF6",
              "width": 0.5
             }
            },
            "type": "barpolar"
           }
          ],
          "carpet": [
           {
            "aaxis": {
             "endlinecolor": "#2a3f5f",
             "gridcolor": "white",
             "linecolor": "white",
             "minorgridcolor": "white",
             "startlinecolor": "#2a3f5f"
            },
            "baxis": {
             "endlinecolor": "#2a3f5f",
             "gridcolor": "white",
             "linecolor": "white",
             "minorgridcolor": "white",
             "startlinecolor": "#2a3f5f"
            },
            "type": "carpet"
           }
          ],
          "choropleth": [
           {
            "colorbar": {
             "outlinewidth": 0,
             "ticks": ""
            },
            "type": "choropleth"
           }
          ],
          "contour": [
           {
            "colorbar": {
             "outlinewidth": 0,
             "ticks": ""
            },
            "colorscale": [
             [
              0,
              "#0d0887"
             ],
             [
              0.1111111111111111,
              "#46039f"
             ],
             [
              0.2222222222222222,
              "#7201a8"
             ],
             [
              0.3333333333333333,
              "#9c179e"
             ],
             [
              0.4444444444444444,
              "#bd3786"
             ],
             [
              0.5555555555555556,
              "#d8576b"
             ],
             [
              0.6666666666666666,
              "#ed7953"
             ],
             [
              0.7777777777777778,
              "#fb9f3a"
             ],
             [
              0.8888888888888888,
              "#fdca26"
             ],
             [
              1,
              "#f0f921"
             ]
            ],
            "type": "contour"
           }
          ],
          "contourcarpet": [
           {
            "colorbar": {
             "outlinewidth": 0,
             "ticks": ""
            },
            "type": "contourcarpet"
           }
          ],
          "heatmap": [
           {
            "colorbar": {
             "outlinewidth": 0,
             "ticks": ""
            },
            "colorscale": [
             [
              0,
              "#0d0887"
             ],
             [
              0.1111111111111111,
              "#46039f"
             ],
             [
              0.2222222222222222,
              "#7201a8"
             ],
             [
              0.3333333333333333,
              "#9c179e"
             ],
             [
              0.4444444444444444,
              "#bd3786"
             ],
             [
              0.5555555555555556,
              "#d8576b"
             ],
             [
              0.6666666666666666,
              "#ed7953"
             ],
             [
              0.7777777777777778,
              "#fb9f3a"
             ],
             [
              0.8888888888888888,
              "#fdca26"
             ],
             [
              1,
              "#f0f921"
             ]
            ],
            "type": "heatmap"
           }
          ],
          "heatmapgl": [
           {
            "colorbar": {
             "outlinewidth": 0,
             "ticks": ""
            },
            "colorscale": [
             [
              0,
              "#0d0887"
             ],
             [
              0.1111111111111111,
              "#46039f"
             ],
             [
              0.2222222222222222,
              "#7201a8"
             ],
             [
              0.3333333333333333,
              "#9c179e"
             ],
             [
              0.4444444444444444,
              "#bd3786"
             ],
             [
              0.5555555555555556,
              "#d8576b"
             ],
             [
              0.6666666666666666,
              "#ed7953"
             ],
             [
              0.7777777777777778,
              "#fb9f3a"
             ],
             [
              0.8888888888888888,
              "#fdca26"
             ],
             [
              1,
              "#f0f921"
             ]
            ],
            "type": "heatmapgl"
           }
          ],
          "histogram": [
           {
            "marker": {
             "colorbar": {
              "outlinewidth": 0,
              "ticks": ""
             }
            },
            "type": "histogram"
           }
          ],
          "histogram2d": [
           {
            "colorbar": {
             "outlinewidth": 0,
             "ticks": ""
            },
            "colorscale": [
             [
              0,
              "#0d0887"
             ],
             [
              0.1111111111111111,
              "#46039f"
             ],
             [
              0.2222222222222222,
              "#7201a8"
             ],
             [
              0.3333333333333333,
              "#9c179e"
             ],
             [
              0.4444444444444444,
              "#bd3786"
             ],
             [
              0.5555555555555556,
              "#d8576b"
             ],
             [
              0.6666666666666666,
              "#ed7953"
             ],
             [
              0.7777777777777778,
              "#fb9f3a"
             ],
             [
              0.8888888888888888,
              "#fdca26"
             ],
             [
              1,
              "#f0f921"
             ]
            ],
            "type": "histogram2d"
           }
          ],
          "histogram2dcontour": [
           {
            "colorbar": {
             "outlinewidth": 0,
             "ticks": ""
            },
            "colorscale": [
             [
              0,
              "#0d0887"
             ],
             [
              0.1111111111111111,
              "#46039f"
             ],
             [
              0.2222222222222222,
              "#7201a8"
             ],
             [
              0.3333333333333333,
              "#9c179e"
             ],
             [
              0.4444444444444444,
              "#bd3786"
             ],
             [
              0.5555555555555556,
              "#d8576b"
             ],
             [
              0.6666666666666666,
              "#ed7953"
             ],
             [
              0.7777777777777778,
              "#fb9f3a"
             ],
             [
              0.8888888888888888,
              "#fdca26"
             ],
             [
              1,
              "#f0f921"
             ]
            ],
            "type": "histogram2dcontour"
           }
          ],
          "mesh3d": [
           {
            "colorbar": {
             "outlinewidth": 0,
             "ticks": ""
            },
            "type": "mesh3d"
           }
          ],
          "parcoords": [
           {
            "line": {
             "colorbar": {
              "outlinewidth": 0,
              "ticks": ""
             }
            },
            "type": "parcoords"
           }
          ],
          "pie": [
           {
            "automargin": true,
            "type": "pie"
           }
          ],
          "scatter": [
           {
            "marker": {
             "colorbar": {
              "outlinewidth": 0,
              "ticks": ""
             }
            },
            "type": "scatter"
           }
          ],
          "scatter3d": [
           {
            "line": {
             "colorbar": {
              "outlinewidth": 0,
              "ticks": ""
             }
            },
            "marker": {
             "colorbar": {
              "outlinewidth": 0,
              "ticks": ""
             }
            },
            "type": "scatter3d"
           }
          ],
          "scattercarpet": [
           {
            "marker": {
             "colorbar": {
              "outlinewidth": 0,
              "ticks": ""
             }
            },
            "type": "scattercarpet"
           }
          ],
          "scattergeo": [
           {
            "marker": {
             "colorbar": {
              "outlinewidth": 0,
              "ticks": ""
             }
            },
            "type": "scattergeo"
           }
          ],
          "scattergl": [
           {
            "marker": {
             "colorbar": {
              "outlinewidth": 0,
              "ticks": ""
             }
            },
            "type": "scattergl"
           }
          ],
          "scattermapbox": [
           {
            "marker": {
             "colorbar": {
              "outlinewidth": 0,
              "ticks": ""
             }
            },
            "type": "scattermapbox"
           }
          ],
          "scatterpolar": [
           {
            "marker": {
             "colorbar": {
              "outlinewidth": 0,
              "ticks": ""
             }
            },
            "type": "scatterpolar"
           }
          ],
          "scatterpolargl": [
           {
            "marker": {
             "colorbar": {
              "outlinewidth": 0,
              "ticks": ""
             }
            },
            "type": "scatterpolargl"
           }
          ],
          "scatterternary": [
           {
            "marker": {
             "colorbar": {
              "outlinewidth": 0,
              "ticks": ""
             }
            },
            "type": "scatterternary"
           }
          ],
          "surface": [
           {
            "colorbar": {
             "outlinewidth": 0,
             "ticks": ""
            },
            "colorscale": [
             [
              0,
              "#0d0887"
             ],
             [
              0.1111111111111111,
              "#46039f"
             ],
             [
              0.2222222222222222,
              "#7201a8"
             ],
             [
              0.3333333333333333,
              "#9c179e"
             ],
             [
              0.4444444444444444,
              "#bd3786"
             ],
             [
              0.5555555555555556,
              "#d8576b"
             ],
             [
              0.6666666666666666,
              "#ed7953"
             ],
             [
              0.7777777777777778,
              "#fb9f3a"
             ],
             [
              0.8888888888888888,
              "#fdca26"
             ],
             [
              1,
              "#f0f921"
             ]
            ],
            "type": "surface"
           }
          ],
          "table": [
           {
            "cells": {
             "fill": {
              "color": "#EBF0F8"
             },
             "line": {
              "color": "white"
             }
            },
            "header": {
             "fill": {
              "color": "#C8D4E3"
             },
             "line": {
              "color": "white"
             }
            },
            "type": "table"
           }
          ]
         },
         "layout": {
          "annotationdefaults": {
           "arrowcolor": "#2a3f5f",
           "arrowhead": 0,
           "arrowwidth": 1
          },
          "coloraxis": {
           "colorbar": {
            "outlinewidth": 0,
            "ticks": ""
           }
          },
          "colorscale": {
           "diverging": [
            [
             0,
             "#8e0152"
            ],
            [
             0.1,
             "#c51b7d"
            ],
            [
             0.2,
             "#de77ae"
            ],
            [
             0.3,
             "#f1b6da"
            ],
            [
             0.4,
             "#fde0ef"
            ],
            [
             0.5,
             "#f7f7f7"
            ],
            [
             0.6,
             "#e6f5d0"
            ],
            [
             0.7,
             "#b8e186"
            ],
            [
             0.8,
             "#7fbc41"
            ],
            [
             0.9,
             "#4d9221"
            ],
            [
             1,
             "#276419"
            ]
           ],
           "sequential": [
            [
             0,
             "#0d0887"
            ],
            [
             0.1111111111111111,
             "#46039f"
            ],
            [
             0.2222222222222222,
             "#7201a8"
            ],
            [
             0.3333333333333333,
             "#9c179e"
            ],
            [
             0.4444444444444444,
             "#bd3786"
            ],
            [
             0.5555555555555556,
             "#d8576b"
            ],
            [
             0.6666666666666666,
             "#ed7953"
            ],
            [
             0.7777777777777778,
             "#fb9f3a"
            ],
            [
             0.8888888888888888,
             "#fdca26"
            ],
            [
             1,
             "#f0f921"
            ]
           ],
           "sequentialminus": [
            [
             0,
             "#0d0887"
            ],
            [
             0.1111111111111111,
             "#46039f"
            ],
            [
             0.2222222222222222,
             "#7201a8"
            ],
            [
             0.3333333333333333,
             "#9c179e"
            ],
            [
             0.4444444444444444,
             "#bd3786"
            ],
            [
             0.5555555555555556,
             "#d8576b"
            ],
            [
             0.6666666666666666,
             "#ed7953"
            ],
            [
             0.7777777777777778,
             "#fb9f3a"
            ],
            [
             0.8888888888888888,
             "#fdca26"
            ],
            [
             1,
             "#f0f921"
            ]
           ]
          },
          "colorway": [
           "#636efa",
           "#EF553B",
           "#00cc96",
           "#ab63fa",
           "#FFA15A",
           "#19d3f3",
           "#FF6692",
           "#B6E880",
           "#FF97FF",
           "#FECB52"
          ],
          "font": {
           "color": "#2a3f5f"
          },
          "geo": {
           "bgcolor": "white",
           "lakecolor": "white",
           "landcolor": "#E5ECF6",
           "showlakes": true,
           "showland": true,
           "subunitcolor": "white"
          },
          "hoverlabel": {
           "align": "left"
          },
          "hovermode": "closest",
          "mapbox": {
           "style": "light"
          },
          "paper_bgcolor": "white",
          "plot_bgcolor": "#E5ECF6",
          "polar": {
           "angularaxis": {
            "gridcolor": "white",
            "linecolor": "white",
            "ticks": ""
           },
           "bgcolor": "#E5ECF6",
           "radialaxis": {
            "gridcolor": "white",
            "linecolor": "white",
            "ticks": ""
           }
          },
          "scene": {
           "xaxis": {
            "backgroundcolor": "#E5ECF6",
            "gridcolor": "white",
            "gridwidth": 2,
            "linecolor": "white",
            "showbackground": true,
            "ticks": "",
            "zerolinecolor": "white"
           },
           "yaxis": {
            "backgroundcolor": "#E5ECF6",
            "gridcolor": "white",
            "gridwidth": 2,
            "linecolor": "white",
            "showbackground": true,
            "ticks": "",
            "zerolinecolor": "white"
           },
           "zaxis": {
            "backgroundcolor": "#E5ECF6",
            "gridcolor": "white",
            "gridwidth": 2,
            "linecolor": "white",
            "showbackground": true,
            "ticks": "",
            "zerolinecolor": "white"
           }
          },
          "shapedefaults": {
           "line": {
            "color": "#2a3f5f"
           }
          },
          "ternary": {
           "aaxis": {
            "gridcolor": "white",
            "linecolor": "white",
            "ticks": ""
           },
           "baxis": {
            "gridcolor": "white",
            "linecolor": "white",
            "ticks": ""
           },
           "bgcolor": "#E5ECF6",
           "caxis": {
            "gridcolor": "white",
            "linecolor": "white",
            "ticks": ""
           }
          },
          "title": {
           "x": 0.05
          },
          "xaxis": {
           "automargin": true,
           "gridcolor": "white",
           "linecolor": "white",
           "ticks": "",
           "title": {
            "standoff": 15
           },
           "zerolinecolor": "white",
           "zerolinewidth": 2
          },
          "yaxis": {
           "automargin": true,
           "gridcolor": "white",
           "linecolor": "white",
           "ticks": "",
           "title": {
            "standoff": 15
           },
           "zerolinecolor": "white",
           "zerolinewidth": 2
          }
         }
        },
        "xaxis": {
         "anchor": "y",
         "domain": [
          0,
          1
         ],
         "title": {
          "text": "nPaths"
         },
         "type": "log"
        },
        "yaxis": {
         "anchor": "x",
         "domain": [
          0,
          1
         ],
         "title": {
          "text": "run time (s)"
         },
         "type": "log"
        }
       }
      }
     },
     "metadata": {}
    }
   ],
   "source": [
    "fig = px.line(table, x='nPaths', y = pay_time_cols, labels={ 'value' : 'run time (s)' }, log_x=True, log_y=True)\n",
    "fig.show()"
   ]
  },
  {
   "cell_type": "code",
   "execution_count": null,
   "metadata": {},
   "outputs": [],
   "source": []
  }
 ],
 "metadata": {
  "kernelspec": {
   "display_name": "Python 3",
   "language": "python",
   "name": "python3"
  },
  "language_info": {
   "codemirror_mode": {
    "name": "ipython",
    "version": 3
   },
   "file_extension": ".py",
   "mimetype": "text/x-python",
   "name": "python",
   "nbconvert_exporter": "python",
   "pygments_lexer": "ipython3",
   "version": "3.7.6-final"
  }
 },
 "nbformat": 4,
 "nbformat_minor": 2
}