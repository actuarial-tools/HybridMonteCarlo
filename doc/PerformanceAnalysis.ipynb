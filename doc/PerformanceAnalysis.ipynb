{
 "cells": [
  {
   "cell_type": "markdown",
   "metadata": {},
   "source": [
    "# Hybrid Monte Carlo\n",
    "\n",
    "## Performance Analysis of Model Simulation and Payoff Calculation\n",
    "\n",
    "In this notebook we analyse the computational effort for model state simulation and discounted payoff calculation. As implementation choices we consider pure Python/Numpy, Julia and C++ (QuantLib).\n",
    "\n",
    "The notebook is structured as follows:\n",
    "\n",
    "  1.  Setting up reference model and reference payoffs in Python:\n",
    "        \n",
    "        a) 2-Factor Quasi Gaussian model\n",
    "        \n",
    "        b) 10y Vanilla swap time line (similar to exposure simulation)\n",
    "\n",
    "  2.  Run Python simulation for various number of paths scenarios\n",
    "\n",
    "  3.  Convert model and payoffs to Julia and repeat simulations\n",
    "  \n",
    "  4.  (Convert model and payoffs to C++ with QuantLib and repeat simulation)\n"
   ]
  },
  {
   "source": [
    "Julia (and Python) includes are relative to top-level directory. We need to make sure we find both Python and Julia files. This seem a bit tricky for Julia and we need to include the Julia modules here."
   ],
   "cell_type": "markdown",
   "metadata": {}
  },
  {
   "cell_type": "code",
   "execution_count": null,
   "metadata": {},
   "outputs": [],
   "source": [
    "import os\n",
    "os.chdir(r'../')\n",
    "from hybmc.wrappers.JuliaSimulation import JuliaSimulation, JuliaDiscountedAt\n",
    "from hybmc.wrappers.JuliaPayoff import JuliaPayoff, JuliaPayoffs"
   ]
  },
  {
   "source": [
    "We use a couple of standard packages and QuantLib to set up the swap intrument."
   ],
   "cell_type": "markdown",
   "metadata": {}
  },
  {
   "cell_type": "code",
   "execution_count": null,
   "metadata": {},
   "outputs": [],
   "source": [
    "import numpy as np\n",
    "import pandas as pd\n",
    "import plotly.express as px\n",
    "import plotly.graph_objects as go\n",
    "import QuantLib as ql\n",
    "\n",
    "from timeit import default_timer as timer"
   ]
  },
  {
   "cell_type": "markdown",
   "metadata": {},
   "source": [
    "### Product and Model Setup\n",
    "\n",
    "We use a Vanilla interest rate swap as example product. The product yields a list of payoffs per observation time."
   ]
  },
  {
   "cell_type": "code",
   "execution_count": null,
   "metadata": {},
   "outputs": [],
   "source": [
    "today     = ql.Date(5,ql.October,2020)\n",
    "ql.Settings.instance().evaluationDate = today"
   ]
  },
  {
   "cell_type": "code",
   "execution_count": null,
   "metadata": {},
   "outputs": [],
   "source": [
    "from hybmc.products.Swap import Swap\n",
    "discYtsH   = ql.YieldTermStructureHandle(\n",
    "                 ql.FlatForward(today,0.015,ql.Actual365Fixed()))\n",
    "projYtsH   = ql.YieldTermStructureHandle(\n",
    "                 ql.FlatForward(today,0.020,ql.Actual365Fixed()))\n",
    "index      = ql.Euribor6M(projYtsH)\n",
    "startDate  = ql.Date(12,ql.October,2020)\n",
    "endDate    = ql.Date(12,ql.October,2030)\n",
    "calendar   = ql.TARGET()\n",
    "fixedTenor = ql.Period('1y')\n",
    "floatTenor = ql.Period('6m')\n",
    "fixedSchedule = ql.MakeSchedule(startDate,endDate,tenor=fixedTenor,calendar=calendar)\n",
    "floatSchedule = ql.MakeSchedule(startDate,endDate,tenor=floatTenor,calendar=calendar)\n",
    "couponDayCount = ql.Thirty360()\n",
    "notional   = 1.0\n",
    "fixedRate  = 0.02\n",
    "fixedLeg   = ql.FixedRateLeg(fixedSchedule,couponDayCount,[notional],[fixedRate])\n",
    "floatingLeg = ql.IborLeg([notional],floatSchedule,index)\n",
    "#\n",
    "swap = Swap([fixedLeg,floatingLeg],[1.0,-1.0],discYtsH)"
   ]
  },
  {
   "cell_type": "markdown",
   "metadata": {},
   "source": [
    "The swap product provides the basis for our payoffs. We calculae payoffs for a time line of annual observation times."
   ]
  },
  {
   "cell_type": "code",
   "execution_count": null,
   "metadata": {},
   "outputs": [],
   "source": [
    "display(swap)\n",
    "observationTimes = np.linspace(0.0,10.0,11)\n",
    "timeline = swap.timeLine(observationTimes)\n",
    "#display(timeline)"
   ]
  },
  {
   "cell_type": "markdown",
   "metadata": {},
   "source": [
    "As reference model we use a 2-factor Quasi Gaussian model:"
   ]
  },
  {
   "cell_type": "code",
   "execution_count": null,
   "metadata": {},
   "outputs": [],
   "source": [
    "from hybmc.termstructures.YieldCurve import YieldCurve\n",
    "from hybmc.models.QuasiGaussianModel import QuasiGaussianModel\n",
    "\n",
    "yc = YieldCurve(0.02)\n",
    "d = 2\n",
    "times = np.array(  [ 1.0,    5.0,   10.0    ])\n",
    "sigma = np.array([ [ 0.0050, 0.0060, 0.0070 ],\n",
    "                   [ 0.0050, 0.0060, 0.0070 ] ])\n",
    "slope = np.array([ [ 0.0100, 0.0100, 0.0100 ],\n",
    "                   [ 0.0200, 0.0200, 0.0200 ] ])\n",
    "curve = np.array([ [ 0.0000, 0.0000, 0.0000 ],\n",
    "                   [ 0.0000, 0.0000, 0.0000 ] ])\n",
    "delta = np.array(  [ 1.0,  20.0 ])\n",
    "chi   = np.array(  [ 0.01, 0.15 ])\n",
    "Gamma = np.identity(2)\n",
    "\n",
    "model = QuasiGaussianModel(yc,d,times,sigma,slope,curve,delta,chi,Gamma)"
   ]
  },
  {
   "cell_type": "markdown",
   "metadata": {},
   "source": [
    "We also specify the scenarios in terms of number of Monte Carlo paths. Also we set some further parameters for simulation."
   ]
  },
  {
   "cell_type": "code",
   "execution_count": null,
   "metadata": {},
   "outputs": [],
   "source": [
    "nPathScenarios = np.array([ 2**k for k in [7, 8, 9, 10, 11 ] ])\n",
    "# nPathScenarios = np.array([ 2**k for k in [7, 8, 9, 10, 11, 12, 13] ])\n",
    "# simTimes = np.array([0.0, 10.0, 11])\n",
    "simTimes = observationTimes\n",
    "seed = 314159\n",
    "timeInterpolation = True"
   ]
  },
  {
   "cell_type": "markdown",
   "metadata": {},
   "source": [
    "### Python simulation\n",
    "\n"
   ]
  },
  {
   "cell_type": "markdown",
   "metadata": {},
   "source": [
    "A time line is a map of observation times to list of payoffs. We can calculate the scenarios as follows:"
   ]
  },
  {
   "cell_type": "code",
   "execution_count": null,
   "metadata": {},
   "outputs": [],
   "source": [
    "def scenariosPython(timeLine, sim):\n",
    "    return np.array([ \n",
    "        [ sum([ payoff.discountedAt(path) for payoff in timeLine[t] ]) for t in timeLine ]\n",
    "        for path in sim.paths() ])"
   ]
  },
  {
   "cell_type": "markdown",
   "metadata": {},
   "source": [
    "This allows now to script the Python run."
   ]
  },
  {
   "cell_type": "code",
   "execution_count": null,
   "metadata": {},
   "outputs": [],
   "source": [
    "from hybmc.simulations.McSimulation import McSimulation\n",
    "\n",
    "def pythonRun():\n",
    "    results = {}\n",
    "    for nPaths in nPathScenarios:\n",
    "        print('nPaths: %6d' % nPaths, end='', flush=True )\n",
    "        start = timer()\n",
    "        sim = McSimulation(model,simTimes,nPaths,seed,timeInterpolation, False)\n",
    "        stop = timer()\n",
    "        sim_time = stop - start\n",
    "        print('  sim_time: %6.2f' % sim_time, end='', flush=True )\n",
    "        start = timer()\n",
    "        scenarios = scenariosPython(timeline,sim)\n",
    "        stop = timer()\n",
    "        pay_time = stop - start\n",
    "        print('  pay_time: %6.2f' % pay_time, end='\\n', flush=True )\n",
    "        npvs = np.average(scenarios,axis=0)\n",
    "        #print(npvs.shape)\n",
    "        results[nPaths] = {\n",
    "            'sim_time' : sim_time,\n",
    "            'pay_time' : pay_time,\n",
    "            'scen_npv' : npvs\n",
    "        }\n",
    "    return results\n",
    "\n",
    "pythonResults = pythonRun()"
   ]
  },
  {
   "cell_type": "markdown",
   "metadata": {},
   "source": [
    "### Julia Simulation\n",
    "\n",
    "We need a reference Python simulation from which we can build the Julia simulation"
   ]
  },
  {
   "cell_type": "code",
   "execution_count": null,
   "metadata": {},
   "outputs": [],
   "source": [
    "from hybmc.simulations.McSimulation import McSimulation\n",
    "sim = McSimulation(model,simTimes,1,seed,timeInterpolation, False)"
   ]
  },
  {
   "cell_type": "code",
   "execution_count": null,
   "metadata": {},
   "outputs": [],
   "source": [
    "jTimeline = { t : JuliaPayoffs(timeline[t]) for t in timeline }"
   ]
  },
  {
   "cell_type": "code",
   "execution_count": null,
   "metadata": {},
   "outputs": [],
   "source": [
    "def scenariosJulia(jTimeline, jSim):\n",
    "    return np.array([ np.sum(JuliaDiscountedAt(jSim,jTimeline[t]),axis=0)\n",
    "        for t in jTimeline ])"
   ]
  },
  {
   "source": [
    "Now we can script the Julia run."
   ],
   "cell_type": "markdown",
   "metadata": {}
  },
  {
   "cell_type": "code",
   "execution_count": null,
   "metadata": {},
   "outputs": [],
   "source": [
    "def juliaRun():\n",
    "    results = {}\n",
    "    for nPaths in nPathScenarios:\n",
    "        print('nPaths: %6d' % nPaths, end='', flush=True )\n",
    "        start = timer()\n",
    "        jSim = JuliaSimulation(sim,simulate=True,nPaths=int(nPaths))\n",
    "        stop = timer()\n",
    "        sim_time = stop - start\n",
    "        print('  sim_time: %6.2f' % sim_time, end='', flush=True )\n",
    "        start = timer()\n",
    "        scenarios = scenariosJulia(jTimeline, jSim)\n",
    "        stop = timer()\n",
    "        pay_time = stop - start\n",
    "        print('  pay_time: %6.2f' % pay_time, end='\\n', flush=True )\n",
    "        npvs = np.average(scenarios,axis=1)\n",
    "        #print(npvs.shape)\n",
    "        results[nPaths] = {\n",
    "            'sim_time' : sim_time,\n",
    "            'pay_time' : pay_time,\n",
    "            'scen_npv' : npvs\n",
    "        }\n",
    "    return results\n",
    "\n",
    "juliaResults = juliaRun()"
   ]
  },
  {
   "source": [
    "### C++ (QuantLib) Simulation\n",
    "\n",
    "*\n",
    "The following code requires a custom QuantLib library, see https://github.com/sschlenkrich/QuantLib.\n",
    "If you do not have QuantLib or if it does not work then disable via the flag 'useQuantLib'.\n",
    "*"
   ],
   "cell_type": "markdown",
   "metadata": {}
  },
  {
   "cell_type": "code",
   "execution_count": null,
   "metadata": {},
   "outputs": [],
   "source": [
    "useQuantLib = True"
   ]
  },
  {
   "cell_type": "code",
   "execution_count": null,
   "metadata": {},
   "outputs": [],
   "source": [
    "if useQuantLib:\n",
    "    from hybmc.wrappers.QuantLibSimulation import QuantLibSimulation, QuantLibDiscountedAt\n",
    "    from hybmc.wrappers.QuantLibPayoffs import QuantLibPayoff, QuantLibPayoffs"
   ]
  },
  {
   "cell_type": "code",
   "execution_count": null,
   "metadata": {},
   "outputs": [],
   "source": [
    "if useQuantLib:\n",
    "    qTimeline = { t : QuantLibPayoffs(timeline[t]) for t in timeline }"
   ]
  },
  {
   "cell_type": "code",
   "execution_count": null,
   "metadata": {},
   "outputs": [],
   "source": [
    "def scenariosQuantLib(qTimeline, qSim):\n",
    "    return np.array([ np.sum(QuantLibDiscountedAt(qSim,qTimeline[t]),axis=0)\n",
    "        for t in qTimeline ])"
   ]
  },
  {
   "cell_type": "code",
   "execution_count": null,
   "metadata": {},
   "outputs": [],
   "source": [
    "def quantLibRun():\n",
    "    results = {}\n",
    "    for nPaths in nPathScenarios:\n",
    "        print('nPaths: %6d' % nPaths, end='', flush=True )\n",
    "        start = timer()\n",
    "        qSim = QuantLibSimulation(sim,nPaths=int(nPaths))\n",
    "        stop = timer()\n",
    "        sim_time = stop - start\n",
    "        print('  sim_time: %6.2f' % sim_time, end='', flush=True )\n",
    "        start = timer()\n",
    "        scenarios = scenariosQuantLib(qTimeline, qSim)\n",
    "        stop = timer()\n",
    "        pay_time = stop - start\n",
    "        print('  pay_time: %6.2f' % pay_time, end='\\n', flush=True )\n",
    "        npvs = np.average(scenarios,axis=1)\n",
    "        #print(npvs.shape)\n",
    "        results[nPaths] = {\n",
    "            'sim_time' : sim_time,\n",
    "            'pay_time' : pay_time,\n",
    "            'scen_npv' : npvs\n",
    "        }\n",
    "    return results\n",
    "\n",
    "if useQuantLib:\n",
    "    quantLibResults = quantLibRun()"
   ]
  },
  {
   "source": [
    "### Comparison of Python and Julia and C++ (QuantLib)"
   ],
   "cell_type": "markdown",
   "metadata": {}
  },
  {
   "cell_type": "code",
   "execution_count": null,
   "metadata": {},
   "outputs": [],
   "source": [
    "table = pd.DataFrame(nPathScenarios, columns=['nPaths'])\n",
    "sim_time_cols = []\n",
    "pay_time_cols = []\n",
    "\n",
    "try:\n",
    "    table['Python_sim_time'] = [ pythonResults[k]['sim_time'] for k in pythonResults ]\n",
    "    table['Python_pay_time'] = [ pythonResults[k]['pay_time'] for k in pythonResults ]\n",
    "    sim_time_cols += ['Python_sim_time']\n",
    "    pay_time_cols += ['Python_pay_time']\n",
    "except NameError:\n",
    "    print('Warning: No Python results available.')\n",
    "\n",
    "try:\n",
    "    table['Julia_sim_time'] = [ juliaResults[k]['sim_time'] for k in juliaResults ]\n",
    "    table['Julia_pay_time'] = [ juliaResults[k]['pay_time'] for k in juliaResults ]\n",
    "    sim_time_cols += ['Julia_sim_time']\n",
    "    pay_time_cols += ['Julia_pay_time']\n",
    "except NameError:\n",
    "    print('Warning: No Julia results available.')\n",
    "\n",
    "try:\n",
    "    table['QuantLib_sim_time'] = [ quantLibResults[k]['sim_time'] for k in quantLibResults ]\n",
    "    table['QuantLib_pay_time'] = [ quantLibResults[k]['pay_time'] for k in quantLibResults ]\n",
    "    sim_time_cols += ['QuantLib_sim_time']\n",
    "    pay_time_cols += ['QuantLib_pay_time']\n",
    "except NameError:\n",
    "    print('Warning: No QuantLib results available.')"
   ]
  },
  {
   "cell_type": "code",
   "execution_count": null,
   "metadata": {},
   "outputs": [],
   "source": [
    "fig = px.line(table, x='nPaths', y = sim_time_cols, labels={ 'value' : 'run time (s)' } ,log_x=True, log_y=True)\n",
    "fig.show()"
   ]
  },
  {
   "cell_type": "code",
   "execution_count": null,
   "metadata": {},
   "outputs": [],
   "source": [
    "fig = px.line(table, x='nPaths', y = pay_time_cols, labels={ 'value' : 'run time (s)' }, log_x=True, log_y=True)\n",
    "fig.show()"
   ]
  },
  {
   "cell_type": "code",
   "execution_count": null,
   "metadata": {},
   "outputs": [],
   "source": []
  }
 ],
 "metadata": {
  "kernelspec": {
   "display_name": "Python 3",
   "language": "python",
   "name": "python3"
  },
  "language_info": {
   "codemirror_mode": {
    "name": "ipython",
    "version": 3
   },
   "file_extension": ".py",
   "mimetype": "text/x-python",
   "name": "python",
   "nbconvert_exporter": "python",
   "pygments_lexer": "ipython3",
   "version": "3.7.6-final"
  }
 },
 "nbformat": 4,
 "nbformat_minor": 2
}