{
 "metadata": {
  "language_info": {
   "codemirror_mode": {
    "name": "ipython",
    "version": 3
   },
   "file_extension": ".py",
   "mimetype": "text/x-python",
   "name": "python",
   "nbconvert_exporter": "python",
   "pygments_lexer": "ipython3",
   "version": "3.7.6-final"
  },
  "orig_nbformat": 2,
  "kernelspec": {
   "name": "Python 3.7.6 64-bit ('Python3.7': conda)",
   "display_name": "Python 3.7.6 64-bit ('Python3.7': conda)",
   "metadata": {
    "interpreter": {
     "hash": "af98fb13c0682ca4fe3350401d42f2a404b34a8b53a566210d6d775d501366cd"
    }
   }
  }
 },
 "nbformat": 4,
 "nbformat_minor": 2,
 "cells": [
  {
   "source": [
    "# Hybrid Monte Carlo\n",
    "\n",
    "## Payoff Scripting\n",
    "\n",
    "In this notebook we demonstrate the setup and use of *Payoff* objects. This is structured along the following steps:\n",
    "\n",
    "  1.  Specifying and using basic payoffs\n",
    "  2.  Combining basic payoffs to form complex payoff structures\n",
    "  3.  Simulate future payoffs with Monte Carlo\n",
    "  4.  Set up payoffs for American Monta Carlo\n",
    "\n",
    "We use a couple of standard packages for calculation and analysis"
   ],
   "cell_type": "markdown",
   "metadata": {}
  },
  {
   "cell_type": "code",
   "execution_count": null,
   "metadata": {},
   "outputs": [],
   "source": [
    "import sys\n",
    "sys.path.append('../')  # make python find our modules\n",
    "import numpy as np\n",
    "import pandas as pd\n",
    "import plotly.express as px"
   ]
  },
  {
   "source": [
    "Initially, we want to focus on payoff specification and leave modelling and simulation to a later stage. However, to be able to *use* a payoff we need a proxy model. Such proxy model can be a *DeterministicModel*.\n",
    "\n",
    "The *DeterministicModel* provides a *Path* which we can use for proxy payoff calculation."
   ],
   "cell_type": "markdown",
   "metadata": {}
  },
  {
   "cell_type": "code",
   "execution_count": null,
   "metadata": {},
   "outputs": [],
   "source": [
    "from src.termstructures.YieldCurve import YieldCurve\n",
    "from src.models.DeterministicModel import DeterministicModel\n",
    "model = DeterministicModel('EUR', YieldCurve(0.03),\n",
    "    forAliases=['USD', 'SX5E'], forAssetSpots=[0.85, 3200.0],\n",
    "    forCurves=[YieldCurve(0.02),YieldCurve(0.01)])\n",
    "p = model.path()"
   ]
  },
  {
   "source": [
    "### Specifying and using basic payoffs\n",
    "\n",
    "A payoff represents a function mapping a *path* to an observable scalar output. The specific function is encoded in the *Payoff* objects.\n",
    "\n",
    "A *Payoff* has an observation time. This is the time the payoff is finally known or paid (depending on context). For a payoff we can calculate future simulated values $V(t)$ for a path via *at(path)* method.\n",
    "\n",
    "Moreover, we can calculate future (simulated) discounted values via *discountedAt(path)* method. This method calculates $V(t)/B(t)$.\n",
    "\n"
   ],
   "cell_type": "markdown",
   "metadata": {}
  },
  {
   "cell_type": "code",
   "execution_count": null,
   "metadata": {},
   "outputs": [],
   "source": [
    "details = lambda o : 't: %.2f, at: %.4f, discountedAt: %.4f' % \\\n",
    "    (o.obsTime,o.at(p),o.discountedAt(p))"
   ]
  },
  {
   "source": [
    "We list some main payoffs and explain their meaning."
   ],
   "cell_type": "markdown",
   "metadata": {}
  },
  {
   "cell_type": "code",
   "execution_count": null,
   "metadata": {},
   "outputs": [],
   "source": [
    "from src.simulations.Payoffs import Fixed, Asset, LiborRate, Pay"
   ]
  },
  {
   "source": [
    "The most basic payoff is a deterministic amount, here *Fixed(.)*"
   ],
   "cell_type": "markdown",
   "metadata": {}
  },
  {
   "cell_type": "code",
   "execution_count": null,
   "metadata": {},
   "outputs": [],
   "source": [
    "a = Fixed(3.14159)\n",
    "display(details(a))"
   ]
  },
  {
   "source": [
    "The amount is known immediately. Numeraire at zero is one. Consequently, discounted value equals future value (in this example)."
   ],
   "cell_type": "markdown",
   "metadata": {}
  },
  {
   "source": [
    "Future FX rates, single stock or index values are represented via *Asset()* payoffs."
   ],
   "cell_type": "markdown",
   "metadata": {}
  },
  {
   "cell_type": "code",
   "execution_count": null,
   "metadata": {},
   "outputs": [],
   "source": [
    "fx = Asset(10.0,'USD')\n",
    "display(details(fx))\n",
    "#\n",
    "s = Asset(5.0,'SX5E')\n",
    "display(details(s))\n"
   ]
  },
  {
   "source": [
    "Now observation time is different from zero. Thus discounted value differs from un-discounted simulated value."
   ],
   "cell_type": "markdown",
   "metadata": {}
  },
  {
   "source": [
    "One of the most import rates payoffs is a *LiborRate()* payoff. As the name suggests it calculates a future simple compounde rate as\n",
    "$$\n",
    "  L(t,T_s,T_e)= \\left[ \\frac{P(t,T_s)}{P(t,T_e)}D - 1 \\right]\n",
    "                \\frac{1}{\\tau}.\n",
    "$$\n",
    "Discount factors $P(t,T)$ are calculated from the model. Tenor basis factor $D$ and year fraction should be provided by user."
   ],
   "cell_type": "markdown",
   "metadata": {}
  },
  {
   "cell_type": "code",
   "execution_count": null,
   "metadata": {},
   "outputs": [],
   "source": [
    "L = LiborRate(10.0,10.0,10.5,alias='EUR')  # here 6m Libor rate\n",
    "display(details(L))"
   ]
  },
  {
   "source": [
    "Often, payoffs are paid at a time later than their observation time. For exaple, a Libor rate is fixed at time $t$ (equal to or shortly before start time $T_s$). But a floating rate cash flow is only paid at the end of the interest rate period at $T_e$.\n",
    "\n",
    "This is important for Monte Carlo simulation because for derivative pricing we need to discount a cash flow from its pay time. The pay time specifies the time the numeraire $B(t)$ is evaluated at.\n",
    "\n",
    "Pay times for payoffs are specified via *Pay()* payoff. This is a payoff that decorates an existing payoff with a new observation time for numeraire calculation."
   ],
   "cell_type": "markdown",
   "metadata": {}
  },
  {
   "cell_type": "code",
   "execution_count": null,
   "metadata": {},
   "outputs": [],
   "source": [
    "C = Pay(L,10.5)\n",
    "display(details(C))"
   ]
  },
  {
   "source": [
    "We see that the simulated value (*at*) remains unchanged. But the discounted value changes slightly due to the changed pay time."
   ],
   "cell_type": "markdown",
   "metadata": {}
  },
  {
   "source": [
    "### Combining basic payoffs to form complex payoff structures\n",
    "\n",
    "We implement several arithmetic functions and operators that can be used with *Payoff* objects to compose more complex cash flow structures.\n",
    "\n",
    "We start with an example for a Vanilla option on Euro Stoxx 50."
   ],
   "cell_type": "markdown",
   "metadata": {}
  },
  {
   "cell_type": "code",
   "execution_count": null,
   "metadata": {},
   "outputs": [],
   "source": [
    "from src.simulations.Payoffs import Max\n",
    "T_ex   = 10.0\n",
    "T_pay  = 10.0 + 7/365.0  # one week payment delay\n",
    "strike = 3000.0\n",
    "cop    = -1.0  # call (+1) or put (-1) option\n",
    "#\n",
    "V      = Max(cop*(Asset(T_ex,'SX5E')-strike),0.0) @ T_pay"
   ]
  },
  {
   "source": [
    "Now that payoffs become more complex it is important to have means to inspect and double check them. For this purpose we implement string conversion for payoff objects."
   ],
   "cell_type": "markdown",
   "metadata": {}
  },
  {
   "cell_type": "code",
   "execution_count": null,
   "metadata": {},
   "outputs": [],
   "source": [
    "display(str(V))"
   ]
  },
  {
   "source": [
    "Note that we use the *@* operator to abbreviate the *Pay()* payoff.\n",
    "\n",
    "Again we can check the simulated value for our payoff given our proxy model."
   ],
   "cell_type": "markdown",
   "metadata": {}
  },
  {
   "cell_type": "code",
   "execution_count": null,
   "metadata": {},
   "outputs": [],
   "source": [
    "display(details(V))"
   ]
  },
  {
   "source": [
    "Since we specify a put options and strike is below forward the simulated option value is zero."
   ],
   "cell_type": "markdown",
   "metadata": {}
  },
  {
   "source": [
    "As a second example we consider a forward Libor cash flow in foreign currency. Such a cash flow will be a building block for exposure calculation of cross currency swaps."
   ],
   "cell_type": "markdown",
   "metadata": {}
  },
  {
   "cell_type": "code",
   "execution_count": null,
   "metadata": {},
   "outputs": [],
   "source": [
    "from src.simulations.Payoffs import ZeroBond\n",
    "T  = 5.0  # observation AND pay date of discounted payoff\n",
    "\n",
    "Nt = 1000.0                              # notional\n",
    "L  = LiborRate(T,10.0,10.5,alias='USD')  # forward Libor since T<<T_s\n",
    "S  = 0.01                                # a spread of 1% added on top of Libor rate\n",
    "YF = 0.5                                 # year fraction for coupon\n",
    "DF = ZeroBond(T,10.5,'USD')              # discount from T_e to T\n",
    "FX = Asset(T,'USD')                      # convert USD to EUR\n",
    "#\n",
    "V  = (FX * Nt * (L+S) * YF * DF) @ T\n"
   ]
  },
  {
   "source": [
    "The composed payoff can be displayed again."
   ],
   "cell_type": "markdown",
   "metadata": {}
  },
  {
   "cell_type": "code",
   "execution_count": null,
   "metadata": {},
   "outputs": [],
   "source": [
    "display(str(V))"
   ]
  },
  {
   "source": [
    "We can simplify the payoff slightly by re-ordering factors and let python calculate known values.\n"
   ],
   "cell_type": "markdown",
   "metadata": {}
  },
  {
   "cell_type": "code",
   "execution_count": null,
   "metadata": {},
   "outputs": [],
   "source": [
    "V  = (Nt * YF * FX * (L+S) * DF) @ T\n",
    "display(str(V))"
   ]
  },
  {
   "source": [
    "The simulated value in domestic currency (here EUR) can be calculated as before."
   ],
   "cell_type": "markdown",
   "metadata": {}
  },
  {
   "cell_type": "code",
   "execution_count": null,
   "metadata": {},
   "outputs": [],
   "source": [
    "display(details(V))"
   ]
  },
  {
   "source": [
    "This all works well as long as we use payoffs valid for a given model. But what happens if specify a different payoff?"
   ],
   "cell_type": "markdown",
   "metadata": {}
  },
  {
   "cell_type": "code",
   "execution_count": null,
   "metadata": {},
   "outputs": [],
   "source": [
    "S = Asset(5.0,'DAX')\n",
    "display(str(S))\n",
    "try:\n",
    "    display(details(S))\n",
    "except Exception as e:\n",
    "    display(e)\n"
   ]
  },
  {
   "source": [
    "We see, we can set up the payoff and view it. But we can not use it with our model because we did not specify dynamics for asset *DAX*."
   ],
   "cell_type": "markdown",
   "metadata": {}
  },
  {
   "source": [
    "### Simulate future payoffs with Monte Carlo\n",
    "\n",
    "So far we only used a proxy discounted cash flow model. Such a proxy model is well suited to test and debug payoffs. However, for actual modelling we want to use a stochastic model and a corresponding simuation.\n",
    "\n",
    "We re-use our complex model."
   ],
   "cell_type": "markdown",
   "metadata": {}
  },
  {
   "cell_type": "code",
   "execution_count": null,
   "metadata": {},
   "outputs": [],
   "source": [
    "import pickle\n",
    "with open('model.dump','rb') as f:\n",
    "    model = pickle.load(f)\n",
    "display(model)"
   ]
  },
  {
   "source": [
    "And simulate it as before. Now, we use considerably more paths for a more realistic simulation."
   ],
   "cell_type": "markdown",
   "metadata": {}
  },
  {
   "cell_type": "code",
   "execution_count": null,
   "metadata": {},
   "outputs": [],
   "source": [
    "from src.simulations.McSimulation import McSimulation\n",
    "seed = 314159265359\n",
    "nPaths = 2**10\n",
    "times = np.linspace(0.0, 10.0, 11)\n",
    "mcsim = McSimulation(model,times,nPaths,seed)"
   ]
  },
  {
   "source": [
    "We can ask the simulation for a given path and use that path to value a payoff."
   ],
   "cell_type": "markdown",
   "metadata": {}
  },
  {
   "cell_type": "code",
   "execution_count": null,
   "metadata": {},
   "outputs": [],
   "source": [
    "p = mcsim.path(0)  # we pick the first path as an example\n",
    "display(details(V))"
   ]
  },
  {
   "source": [
    "With Monte Carlo method we calculate present values by estimating the expectation\n",
    "$$\n",
    "  V(0) = \\mathbb{E}\\left[ \\frac{V(t)}{B(t)} \\right]\n",
    "         \\approx \\frac{1}{N} \\sum_{i=1}^N \\frac{V^i(t)}{B^i(t)}.\n",
    "$$\n",
    "Here, $N$ is the number of Monte Carlo paths, $V^i$ are simulated future payoffs and $B^i$ are simulated future numeraires.\n",
    "\n",
    "The fraction $V^i(t)/B^i(t)$ is returned by *discountedAt()* for a given input path $i$.\n",
    "\n",
    "The present value for a payoff can now easily be calculated."
   ],
   "cell_type": "markdown",
   "metadata": {}
  },
  {
   "cell_type": "code",
   "execution_count": null,
   "metadata": {},
   "outputs": [],
   "source": [
    "display(str(V))\n",
    "V_samples = np.array([ V.discountedAt(mcsim.path(i))\n",
    "    for i in range(mcsim.nPaths) ])\n",
    "display('Av: %.4f, stdErr: %.4f' % \\\n",
    "    (np.average(V_samples),np.std(V_samples)/np.sqrt(mcsim.nPaths)))\n",
    "#\n",
    "df = pd.DataFrame(V_samples,columns=['$V^i(0)$'])\n",
    "fig = px.histogram(df,x=df.columns[0])\n",
    "fig.show()"
   ]
  },
  {
   "source": [
    "We have a look at another example, a Vanilla put on Eurostoxx 50."
   ],
   "cell_type": "markdown",
   "metadata": {}
  },
  {
   "cell_type": "code",
   "execution_count": null,
   "metadata": {},
   "outputs": [],
   "source": [
    "V = Max(-1*(Asset(10.0,'SX5E')-3000.0),0.0) @ 10.0\n",
    "V_samples = np.array([ V.discountedAt(mcsim.path(i))\n",
    "    for i in range(mcsim.nPaths) ])\n",
    "display('Av: %.4f, stdErr: %.4f' % \\\n",
    "    (np.average(V_samples),np.std(V_samples)/np.sqrt(mcsim.nPaths)))\n",
    "#\n",
    "df = pd.DataFrame(V_samples,columns=['$V^i(0)$'])\n",
    "fig = px.histogram(df,x=df.columns[0])\n",
    "fig.show()"
   ]
  },
  {
   "source": [
    "### Set up payoffs for American Monte Carlo\n",
    "\n",
    "Future conditional expectations of complex payoffs may be approximated by American Monte Carlo (AMC) methods. These methods are typically based on regression. They allow approximating\n",
    "$$\n",
    "  V(t) = B(t) \\cdot \\mathbb{E}\\left[ \\frac{V(T)}{B(T)} \\, | \\, \\cal{F}_t  \\right].\n",
    "$$\n",
    "\n",
    "We implement AMC by linear regression using control variables. Calibration of the regression requires another Monte Carlo simulation. This is an input to the AMC payoff."
   ],
   "cell_type": "markdown",
   "metadata": {}
  },
  {
   "cell_type": "code",
   "execution_count": null,
   "metadata": {},
   "outputs": [],
   "source": [
    "mcsim_training = McSimulation(model,times,nPaths,2718281828)"
   ]
  },
  {
   "source": [
    "To illustrate the methodology we give the example of the Euro Stoxx 50 put option exercised in *T=10y* but observed in *t=5y*.\n",
    "\n",
    "The original payoff in 10y is denoted as $V_{10y}$."
   ],
   "cell_type": "markdown",
   "metadata": {}
  },
  {
   "cell_type": "code",
   "execution_count": null,
   "metadata": {},
   "outputs": [],
   "source": [
    "V_10y = Max(-1*(Asset(10.0,'SX5E')-3000.0),0.0) @ 10.0"
   ]
  },
  {
   "source": [
    "As control variables we consider $C_0 = S_{SX5E}(5.0)$ and $C_1 = [S_{SX5E}(5.0)-3000]^+$."
   ],
   "cell_type": "markdown",
   "metadata": {}
  },
  {
   "cell_type": "code",
   "execution_count": null,
   "metadata": {},
   "outputs": [],
   "source": [
    "C_0 = Asset(5.0,'SX5E')\n",
    "C_1 = Max(C_0-3000.0,0.0)"
   ]
  },
  {
   "source": [
    "Also we need to specify the maximum polynomial degree used for the regression."
   ],
   "cell_type": "markdown",
   "metadata": {}
  },
  {
   "cell_type": "code",
   "execution_count": null,
   "metadata": {},
   "outputs": [],
   "source": [
    "maxDegree = 2 "
   ]
  },
  {
   "source": [
    "Now we have all ingredients for the AMC payoff."
   ],
   "cell_type": "markdown",
   "metadata": {}
  },
  {
   "cell_type": "code",
   "execution_count": null,
   "metadata": {},
   "outputs": [],
   "source": [
    "from src.simulations.AmcPayoffs import AmcSum\n",
    "V_5y = AmcSum(5.0,[V_10y],[C_0,C_1],mcsim_training,maxDegree)\n",
    "display(str(V_5y))"
   ]
  },
  {
   "source": [
    "We illustrate the regression for this example."
   ],
   "cell_type": "markdown",
   "metadata": {}
  },
  {
   "cell_type": "code",
   "execution_count": null,
   "metadata": {},
   "outputs": [],
   "source": [
    "C_0_sample = np.array([ C_0.at(mcsim_training.path(k)) \\\n",
    "    for k in range(mcsim_training.nPaths) ])\n",
    "C_1_sample = np.array([ C_1.at(mcsim_training.path(k)) \\\n",
    "    for k in range(mcsim_training.nPaths) ])\n",
    "#\n",
    "V_10y_sample = np.array([ V_10y.discountedAt(mcsim_training.path(k)) \\\n",
    "    for k in range(mcsim_training.nPaths) ])\n",
    "One = Fixed(1.0) @ 5.0\n",
    "B_5y_sample = 1.0 / np.array([ One.discountedAt(mcsim_training.path(k)) \\\n",
    "    for k in range(mcsim_training.nPaths) ])\n",
    "V_10y_sample *= B_5y_sample\n",
    "#\n",
    "V_5y_sample = np.array([ V_5y.at(mcsim_training.path(k)) \\\n",
    "    for k in range(mcsim_training.nPaths) ])\n",
    "#\n",
    "df = pd.DataFrame([ C_0_sample, C_1_sample, V_10y_sample, V_5y_sample ]).T\n",
    "df.columns = [ 'C_0', 'C_1', '$V_{ 10y }$', '$V_{ 5y }$' ]\n",
    "df = pd.melt(df,id_vars=list(df.columns[:2]), value_vars=list(df.columns[2:]),var_name='option',value_name='V')\n",
    "fig = px.scatter_3d(df, x='C_0', y='C_1', z='V', color='option')\n",
    "fig.show()"
   ]
  },
  {
   "source": [
    "We will explore applications for AMC payoffs in the context of exposure simulation.\n",
    "\n",
    "For this example we calculate the present value of the AMC payoff."
   ],
   "cell_type": "markdown",
   "metadata": {}
  },
  {
   "cell_type": "code",
   "execution_count": null,
   "metadata": {},
   "outputs": [],
   "source": [
    "V_samples = np.array([ V_5y.discountedAt(mcsim.path(i))\n",
    "    for i in range(mcsim.nPaths) ])\n",
    "display('Av: %.4f, stdErr: %.4f' % \\\n",
    "    (np.average(V_samples),np.std(V_samples)/np.sqrt(mcsim.nPaths)))\n",
    "#\n",
    "df = pd.DataFrame(V_samples,columns=['$V^i(0)$'])\n",
    "fig = px.histogram(df,x=df.columns[0])\n",
    "fig.show()"
   ]
  },
  {
   "source": [
    "Because of Tower Law we have $V_{10y}(0)\\approx V_{5y}(0)$ (up to errors by the numerical scheme). However, the variance (and thus stdErr) of $V_{5y}$ is considerably smaller than the variance of $V_{10y}$. "
   ],
   "cell_type": "markdown",
   "metadata": {}
  },
  {
   "source": [],
   "cell_type": "markdown",
   "metadata": {}
  }
 ]
}