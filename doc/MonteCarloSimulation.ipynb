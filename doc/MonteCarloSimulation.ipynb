{
 "metadata": {
  "language_info": {
   "codemirror_mode": {
    "name": "ipython",
    "version": 3
   },
   "file_extension": ".py",
   "mimetype": "text/x-python",
   "name": "python",
   "nbconvert_exporter": "python",
   "pygments_lexer": "ipython3",
   "version": "3.7.6-final"
  },
  "orig_nbformat": 2,
  "kernelspec": {
   "name": "Python 3.7.6 64-bit ('Python3.7': conda)",
   "display_name": "Python 3.7.6 64-bit ('Python3.7': conda)",
   "metadata": {
    "interpreter": {
     "hash": "af98fb13c0682ca4fe3350401d42f2a404b34a8b53a566210d6d775d501366cd"
    }
   }
  }
 },
 "nbformat": 4,
 "nbformat_minor": 2,
 "cells": [
  {
   "source": [
    "# Hybrid Monte Carlo\n",
    "\n",
    "## Monte Carlo Simulation\n",
    "\n",
    "In this notebook we illustrate the Monte Carlo simulation framework. This includes is structured along the following steps:\n",
    "\n",
    "  1.  Setting up a model\n",
    "  2.  Contructing and running a simulation\n",
    "  3.  Inspecting the simulation\n",
    "  4.  Calculate future modeled quantities\n",
    "\n",
    "We use a couple of standard packages for calculation and analysis"
   ],
   "cell_type": "markdown",
   "metadata": {}
  },
  {
   "cell_type": "code",
   "execution_count": null,
   "metadata": {},
   "outputs": [],
   "source": [
    "import sys\n",
    "sys.path.append('../')  # make python find our modules\n",
    "import numpy as np\n",
    "import pandas as pd\n",
    "import plotly.express as px"
   ]
  },
  {
   "source": [
    "The following auxilliary method lists the relevant members of an object. We use it to inspect the objects created. "
   ],
   "cell_type": "markdown",
   "metadata": {}
  },
  {
   "cell_type": "code",
   "execution_count": null,
   "metadata": {},
   "outputs": [],
   "source": [
    "def members(obj):\n",
    "    return [f for f in dir(obj) if not f.startswith('_')] "
   ]
  },
  {
   "source": [
    "The starting point for modelling is a discount curve. For now we use a flat forward furve. More advanced curve specifications can easily be included e.g. via QuantLib. Our modelling framework only requires that a yieldcurve provides a method *discunt(t)* for a time parameter *t*."
   ],
   "cell_type": "markdown",
   "metadata": {}
  },
  {
   "cell_type": "code",
   "execution_count": null,
   "metadata": {},
   "outputs": [],
   "source": [
    "from src.termstructures.YieldCurve import YieldCurve\n",
    "discCurve = YieldCurve(rate=0.03)\n",
    "display(members(discCurve))"
   ]
  },
  {
   "source": [
    "### Setting up a model\n",
    "\n",
    "For this example we use a Hull White interest rate model. This type of model will typically also be the building block for more complex models.\n",
    "\n",
    "The Hull White model allows for piece-wise constant short rate volatility and constant mean reversion."
   ],
   "cell_type": "markdown",
   "metadata": {}
  },
  {
   "cell_type": "code",
   "execution_count": null,
   "metadata": {},
   "outputs": [],
   "source": [
    "from src.models.HullWhiteModel import HullWhiteModel\n",
    "times = np.array([ 2.0,    5.0,    10.0    ])\n",
    "vols  = np.array([ 0.0050, 0.0060,  0.0070 ])\n",
    "mean  = 0.03\n",
    "#\n",
    "model = HullWhiteModel(discCurve,mean,times,vols)\n",
    "display(members(model))"
   ]
  },
  {
   "source": [
    "### Contructing and running a simulation\n",
    "\n",
    "For a simulation we need to specify a time grid on which model states are evolved, number of Monte Carlo paths and a (pseudo) random number seed.\n",
    "\n",
    "The simulation is run at construction of the object."
   ],
   "cell_type": "markdown",
   "metadata": {}
  },
  {
   "cell_type": "code",
   "execution_count": null,
   "metadata": {},
   "outputs": [],
   "source": [
    "from src.simulations.MCSimulation import MCSimulation\n",
    "seed = 314159265359\n",
    "nPaths = 3\n",
    "times = np.linspace(0.0, 10.0, 11)\n",
    "display(times)"
   ]
  },
  {
   "cell_type": "code",
   "execution_count": null,
   "metadata": {},
   "outputs": [],
   "source": [
    "mcsim = MCSimulation(model,times,nPaths,seed)\n",
    "display(members(mcsim))"
   ]
  },
  {
   "source": [
    "### Inspecting the simulation\n",
    "\n",
    "The Monte Carlo simulation calculates independent standard normal variables *dW*. The data are stored as 3-dimensional array *dW\\[nPaths,times-1,factor\\]*."
   ],
   "cell_type": "markdown",
   "metadata": {}
  },
  {
   "cell_type": "code",
   "execution_count": null,
   "metadata": {},
   "outputs": [],
   "source": [
    "display(mcsim.dW.shape)"
   ]
  },
  {
   "source": [
    "The Hull White model is a 1-factor model. Thus last dimension is 1.\n",
    "\n",
    "We illustrate random samples per time step and path."
   ],
   "cell_type": "markdown",
   "metadata": {}
  },
  {
   "cell_type": "code",
   "execution_count": null,
   "metadata": {},
   "outputs": [],
   "source": [
    "# we prep the dW's for nice plotting\n",
    "data = pd.DataFrame(mcsim.dW[:,:,0]).T\n",
    "data.columns = [str(c) for c in data.columns]\n",
    "ts = pd.Series(times[:-1],name='times')\n",
    "data = pd.concat([ts,data],axis=1)\n",
    "data = pd.melt(data,id_vars='times', value_vars=list(data.columns[1:]),var_name='path',value_name='dW')\n",
    "# \n",
    "fig = px.scatter(data,x='times',y='dW',color='path')\n",
    "fig.show()"
   ]
  },
  {
   "source": [
    "Based on the model specification and the model's *evolve()* method model states *X* are simulated. This is the core functionality of Monte Carlo simulation. State variables are also stored in a 3-dimensional array *X\\[nPaths,times,states\\]*."
   ],
   "cell_type": "markdown",
   "metadata": {}
  },
  {
   "cell_type": "code",
   "execution_count": null,
   "metadata": {},
   "outputs": [],
   "source": [
    "display(mcsim.X.shape)"
   ]
  },
  {
   "source": [
    "We simulate the Hull White state variable *x(t)=r(t)-f(0,t)*. However, for derivative pricing we also need the numeraire (here bank account), $B(t) = P(0,t)^{-1}\\exp\\left\\{\\int_0^t x(s)sd\\right\\}$.\n",
    "\n",
    "Thus, we store the integrated state variable $s(t)=\\int_0^t x(s)ds$ in the second component of the Monte Carlo state."
   ],
   "cell_type": "markdown",
   "metadata": {}
  },
  {
   "cell_type": "code",
   "execution_count": null,
   "metadata": {},
   "outputs": [],
   "source": [
    "data_x = pd.DataFrame(mcsim.X[:,:,0]).T\n",
    "data_x.columns = ['x_'+str(c) for c in data_x.columns]\n",
    "data_s = pd.DataFrame(mcsim.X[:,:,1]).T\n",
    "data_s.columns = ['s_'+str(c) for c in data_s.columns]\n",
    "ts = pd.Series(times,name='times')\n",
    "data = pd.concat([ts,data_x,data_s], axis=1)\n",
    "data = pd.melt(data,id_vars='times', value_vars=list(data.columns[1:]),var_name='path',value_name='X')\n",
    "# \n",
    "fig = px.scatter(data,x='times',y='X',color='path')\n",
    "fig.show()"
   ]
  },
  {
   "source": [
    "### Calculate future modeled quantities\n",
    "\n",
    "With the Monte Carlo state(s) we can now calculate simulated future model quantities. For an interest rate model these quantities are zero coupon bonds $P(t,T)=P(x;t,T)$."
   ],
   "cell_type": "markdown",
   "metadata": {}
  },
  {
   "cell_type": "code",
   "execution_count": null,
   "metadata": {},
   "outputs": [],
   "source": [
    "k = 10  # we pick the last simulated time\n",
    "t = times[k]\n",
    "T = t + 5.0  # and 5y zero bond maturity\n",
    "display((t,T))"
   ]
  },
  {
   "source": [
    "The simulates Monte Carlo states:"
   ],
   "cell_type": "markdown",
   "metadata": {}
  },
  {
   "cell_type": "code",
   "execution_count": null,
   "metadata": {},
   "outputs": [],
   "source": [
    "states = mcsim.X[:,k,:]\n",
    "display(states)"
   ]
  },
  {
   "source": [
    "And resulting simulated zero coupon bonds:"
   ],
   "cell_type": "markdown",
   "metadata": {}
  },
  {
   "cell_type": "code",
   "execution_count": null,
   "metadata": {},
   "outputs": [],
   "source": [
    "zeroBonds = np.array([ model.zeroBond(t,T,X,None) for X in states ])\n",
    "display(zeroBonds)"
   ]
  },
  {
   "source": [
    "We can compare simulated zero coupon bonds to forward zero bonds $P(0,T)/P(0,t)$ calculated from the initial discount curve."
   ],
   "cell_type": "markdown",
   "metadata": {}
  },
  {
   "cell_type": "code",
   "execution_count": null,
   "metadata": {},
   "outputs": [],
   "source": [
    "zeroBondFwd = discCurve.discount(T)/discCurve.discount(t)\n",
    "display(zeroBondFwd)"
   ]
  },
  {
   "source": [
    "However, we need to change measure. Hull White model simulation is in risk-neutral measure. Forward zero bond is a martingale in the *T*-forward measure."
   ],
   "cell_type": "markdown",
   "metadata": {}
  },
  {
   "cell_type": "code",
   "execution_count": null,
   "metadata": {},
   "outputs": [],
   "source": [
    "numeraires = np.array([ model.numeraire(t,X) for X in states ])\n",
    "zeroBonds_T = zeroBonds / numeraires / discCurve.discount(t)\n",
    "display(zeroBonds_T)"
   ]
  },
  {
   "cell_type": "code",
   "execution_count": null,
   "metadata": {},
   "outputs": [],
   "source": [
    "zeroBonds_T_av = np.average(zeroBonds_T)\n",
    "display(zeroBonds_T_av)"
   ]
  },
  {
   "cell_type": "code",
   "execution_count": null,
   "metadata": {},
   "outputs": [],
   "source": []
  }
 ]
}