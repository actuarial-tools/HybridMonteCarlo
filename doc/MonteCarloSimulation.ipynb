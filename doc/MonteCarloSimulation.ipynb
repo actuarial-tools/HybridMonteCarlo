{
 "metadata": {
  "language_info": {
   "codemirror_mode": {
    "name": "ipython",
    "version": 3
   },
   "file_extension": ".py",
   "mimetype": "text/x-python",
   "name": "python",
   "nbconvert_exporter": "python",
   "pygments_lexer": "ipython3",
   "version": "3.7.6-final"
  },
  "orig_nbformat": 2,
  "kernelspec": {
   "name": "Python 3.7.6 64-bit ('Python3.7': conda)",
   "display_name": "Python 3.7.6 64-bit ('Python3.7': conda)",
   "metadata": {
    "interpreter": {
     "hash": "af98fb13c0682ca4fe3350401d42f2a404b34a8b53a566210d6d775d501366cd"
    }
   }
  }
 },
 "nbformat": 4,
 "nbformat_minor": 2,
 "cells": [
  {
   "source": [
    "# Hybrid Monte Carlo\n",
    "\n",
    "## Monte Carlo Simulation\n",
    "\n",
    "In this notebook we illustrate the Monte Carlo simulation framework. This includes is structured along the following steps:\n",
    "\n",
    "  1.  Setting up a model\n",
    "  2.  Contructing and running a simulation\n",
    "  3.  Inspecting the simulation\n",
    "  4.  Calculate future modeled quantities\n",
    "\n",
    "We use a couple of standard packages for calculation and analysis"
   ],
   "cell_type": "markdown",
   "metadata": {}
  },
  {
   "cell_type": "code",
   "execution_count": null,
   "metadata": {},
   "outputs": [],
   "source": [
    "import sys\n",
    "sys.path.append('../')  # make python find our modules\n",
    "import numpy as np\n",
    "import pandas as pd\n",
    "import plotly.express as px"
   ]
  },
  {
   "source": [
    "The following auxilliary method lists the relevant members of an object. We use it to inspect the objects created. "
   ],
   "cell_type": "markdown",
   "metadata": {}
  },
  {
   "cell_type": "code",
   "execution_count": null,
   "metadata": {},
   "outputs": [],
   "source": [
    "def members(obj):\n",
    "    return [f for f in dir(obj) if not f.startswith('_')] "
   ]
  },
  {
   "source": [
    "The starting point for modelling is a discount curve. For now we use a flat forward furve. More advanced curve specifications can easily be included e.g. via QuantLib. Our modelling framework only requires that a yieldcurve provides a method *discunt(t)* for a time parameter *t*."
   ],
   "cell_type": "markdown",
   "metadata": {}
  },
  {
   "cell_type": "code",
   "execution_count": null,
   "metadata": {},
   "outputs": [],
   "source": [
    "from src.termstructures.YieldCurve import YieldCurve\n",
    "discCurve = YieldCurve(rate=0.03)\n",
    "display(members(discCurve))"
   ]
  },
  {
   "source": [
    "### Setting up a model\n",
    "\n",
    "For this example we use a Hull White interest rate model. This type of model will typically also be the building block for more complex models.\n",
    "\n",
    "The Hull White model allows for piece-wise constant short rate volatility and constant mean reversion."
   ],
   "cell_type": "markdown",
   "metadata": {}
  },
  {
   "cell_type": "code",
   "execution_count": null,
   "metadata": {},
   "outputs": [],
   "source": [
    "from src.models.HullWhiteModel import HullWhiteModel\n",
    "times = np.array([ 2.0,    5.0,    10.0    ])\n",
    "vols  = np.array([ 0.0050, 0.0060,  0.0070 ])\n",
    "mean  = 0.03\n",
    "#\n",
    "model = HullWhiteModel(discCurve,mean,times,vols)\n",
    "display(members(model))"
   ]
  },
  {
   "source": [
    "### Contructing and running a simulation\n",
    "\n",
    "For a simulation we need to specify a time grid on which model states are evolved, number of Monte Carlo paths and a (pseudo) random number seed.\n",
    "\n",
    "The simulation is run at construction of the object."
   ],
   "cell_type": "markdown",
   "metadata": {}
  },
  {
   "cell_type": "code",
   "execution_count": null,
   "metadata": {},
   "outputs": [],
   "source": [
    "from src.simulations.MCSimulation import MCSimulation\n",
    "seed = 314159265359\n",
    "nPaths = 3\n",
    "times = np.linspace(0.0, 10.0, 11)\n",
    "display(times)"
   ]
  },
  {
   "cell_type": "code",
   "execution_count": null,
   "metadata": {},
   "outputs": [],
   "source": [
    "mcsim = MCSimulation(model,times,nPaths,seed)\n",
    "display(members(mcsim))"
   ]
  },
  {
   "source": [
    "### Inspecting the simulation\n",
    "\n",
    "The Monte Carlo simulation calculates independent standard normal variables *dW*. The data are stored as 3-dimensional array *dW\\[nPaths,times-1,factor\\]*."
   ],
   "cell_type": "markdown",
   "metadata": {}
  },
  {
   "cell_type": "code",
   "execution_count": null,
   "metadata": {},
   "outputs": [],
   "source": [
    "display(mcsim.dW.shape)"
   ]
  },
  {
   "source": [
    "The Hull White model is a 1-factor model. Thus last dimension is 1. We can verify this by asking the model for its random factors.\n",
    "\n"
   ],
   "cell_type": "markdown",
   "metadata": {}
  },
  {
   "cell_type": "code",
   "execution_count": null,
   "metadata": {},
   "outputs": [],
   "source": [
    "display(model.factorAliases())"
   ]
  },
  {
   "source": [
    "We illustrate random samples per time step and path."
   ],
   "cell_type": "markdown",
   "metadata": {}
  },
  {
   "cell_type": "code",
   "execution_count": null,
   "metadata": {},
   "outputs": [],
   "source": [
    "# we prep the dW's for nice plotting\n",
    "data = pd.DataFrame(mcsim.dW[:,:,0]).T\n",
    "data.columns = [str(c) for c in data.columns]\n",
    "ts = pd.Series(times[:-1],name='times')\n",
    "data = pd.concat([ts,data],axis=1)\n",
    "data = pd.melt(data,id_vars='times', value_vars=list(data.columns[1:]),var_name='path',value_name='dW')\n",
    "# \n",
    "fig = px.scatter(data,x='times',y='dW',color='path')\n",
    "fig.show()"
   ]
  },
  {
   "source": [
    "The core functionality of Monte Carlo simulation is simulating state variables *X*. This is implemented based on the model specification and the model's *evolve()* method. State variables are stored in a 3-dimensional array *X\\[nPaths,times,states\\]*."
   ],
   "cell_type": "markdown",
   "metadata": {}
  },
  {
   "cell_type": "code",
   "execution_count": null,
   "metadata": {},
   "outputs": [],
   "source": [
    "display(mcsim.X.shape)"
   ]
  },
  {
   "source": [
    "We simulate the Hull White state variable *x(t)=r(t)-f(0,t)*. However, for derivative pricing we also need the numeraire (here bank account), $B(t) = P(0,t)^{-1}\\exp\\left\\{\\int_0^t x(s)sd\\right\\}$. Thus, we store the integrated state variable $s(t)=\\int_0^t x(s)ds$ in the second component of the Monte Carlo state.\n",
    "\n",
    "We can verify the model states by asking the model for its internal representation."
   ],
   "cell_type": "markdown",
   "metadata": {}
  },
  {
   "cell_type": "code",
   "execution_count": null,
   "metadata": {},
   "outputs": [],
   "source": [
    "display(model.stateAliases())"
   ]
  },
  {
   "cell_type": "code",
   "execution_count": null,
   "metadata": {},
   "outputs": [],
   "source": [
    "data_x = pd.DataFrame(mcsim.X[:,:,0]).T\n",
    "data_x.columns = ['x_'+str(c) for c in data_x.columns]\n",
    "data_s = pd.DataFrame(mcsim.X[:,:,1]).T\n",
    "data_s.columns = ['s_'+str(c) for c in data_s.columns]\n",
    "ts = pd.Series(times,name='times')\n",
    "data = pd.concat([ts,data_x,data_s], axis=1)\n",
    "data = pd.melt(data,id_vars='times', value_vars=list(data.columns[1:]),var_name='path',value_name='X')\n",
    "# \n",
    "fig = px.scatter(data,x='times',y='X',color='path')\n",
    "fig.show()"
   ]
  },
  {
   "source": [
    "### Calculate future modeled quantities\n",
    "\n",
    "With the Monte Carlo state(s) we can now calculate simulated future model quantities. For an interest rate model these quantities are zero coupon bonds $P(t,T)=P(x;t,T)$."
   ],
   "cell_type": "markdown",
   "metadata": {}
  },
  {
   "cell_type": "code",
   "execution_count": null,
   "metadata": {},
   "outputs": [],
   "source": [
    "k = 10  # we pick the last simulated time\n",
    "t = times[k]\n",
    "T = t + 5.0  # and 5y zero bond maturity\n",
    "display((t,T))"
   ]
  },
  {
   "source": [
    "The simulates Monte Carlo states:"
   ],
   "cell_type": "markdown",
   "metadata": {}
  },
  {
   "cell_type": "code",
   "execution_count": null,
   "metadata": {},
   "outputs": [],
   "source": [
    "states = mcsim.X[:,k,:]\n",
    "display(states)"
   ]
  },
  {
   "source": [
    "And resulting simulated zero coupon bonds:"
   ],
   "cell_type": "markdown",
   "metadata": {}
  },
  {
   "cell_type": "code",
   "execution_count": null,
   "metadata": {},
   "outputs": [],
   "source": [
    "zeroBonds = np.array([ model.zeroBond(t,T,X,None) for X in states ])\n",
    "display(zeroBonds)"
   ]
  },
  {
   "source": [
    "We can compare simulated zero coupon bonds to forward zero bonds $P(0,T)/P(0,t)$ calculated from the initial discount curve."
   ],
   "cell_type": "markdown",
   "metadata": {}
  },
  {
   "cell_type": "code",
   "execution_count": null,
   "metadata": {},
   "outputs": [],
   "source": [
    "zeroBondFwd = discCurve.discount(T)/discCurve.discount(t)\n",
    "display(zeroBondFwd)"
   ]
  },
  {
   "source": [
    "However, we need to change measure. Hull White model simulation is in risk-neutral measure. Forward zero bond is a martingale in the *T*-forward measure."
   ],
   "cell_type": "markdown",
   "metadata": {}
  },
  {
   "cell_type": "code",
   "execution_count": null,
   "metadata": {},
   "outputs": [],
   "source": [
    "numeraires = np.array([ model.numeraire(t,X) for X in states ])\n",
    "zeroBonds_T = zeroBonds / numeraires / discCurve.discount(t)\n",
    "display(zeroBonds_T)"
   ]
  },
  {
   "cell_type": "code",
   "execution_count": null,
   "metadata": {},
   "outputs": [],
   "source": [
    "zeroBonds_T_av = np.average(zeroBonds_T)\n",
    "display(zeroBonds_T_av)"
   ]
  },
  {
   "source": [
    "### Complex model setup\n",
    "\n",
    "In the example above we only modelled inerest rates for a sngle currency with a Hull White model. For hybrid modelling we typically need a model for various components.\n",
    "\n",
    "In this section we give and example for a hybrid model. This should demonstrate the overall principle without going into the details of the math for now.\n",
    "\n",
    "A complex model is composed of individual models which are *plugged together* in a sensible way. We consider the following component models:\n",
    "\n",
    "  -  Rates model for foreign and domestic curves (here Hull White model)\n",
    "  -  Discounted cash flow (DCF) model for dividend yields\n",
    "  -  Asset model for FX rates and single stocks or indices\n",
    "  -  Stochastic intensity (or hazard rate) model for credit modelling\n",
    "  -  Stochastic funding or discount spread model\n",
    "\n",
    "We start with our base currency rates model and re-use our Hull White model from above."
   ],
   "cell_type": "markdown",
   "metadata": {}
  },
  {
   "cell_type": "code",
   "execution_count": null,
   "metadata": {},
   "outputs": [],
   "source": [
    "domRates = model"
   ]
  },
  {
   "source": [
    "Next we specify a FX model for EUR/USD. Since we already defined our base (or domestic) currency to be EUR we can not directly model EUR/USD. Instead we model the inverse FX spot USD/EUR where USD is foreign currency and EUR is domestic currency. To make things precise, we model the EUR-price of one unit of USD currency.\n",
    "\n",
    "For FX modelling we need an *AssetModel*. For now our asset modelling is very simple. We model lognormal underlyings with constant volatility $\\sigma$. And of course, we need to specify our initial FX rate (here *X0*)."
   ],
   "cell_type": "markdown",
   "metadata": {}
  },
  {
   "source": [
    "from src.models.AssetModel import AssetModel\n",
    "usdAsset = AssetModel(X0=0.85,sigma=0.15)"
   ],
   "cell_type": "code",
   "metadata": {},
   "execution_count": null,
   "outputs": []
  },
  {
   "source": [
    "For foreign rates modelling we also use a Hull White model. Model parameters are kept simple for now."
   ],
   "cell_type": "markdown",
   "metadata": {}
  },
  {
   "cell_type": "code",
   "execution_count": null,
   "metadata": {},
   "outputs": [],
   "source": [
    "usdRates = HullWhiteModel(YieldCurve(0.01), 0.01, np.array([10.0]), np.array([0.0050]))"
   ]
  },
  {
   "source": [
    "We also want to model an equity index, say Euro Stoxx 50. This is also realised via an *AssetModel*. Now it represents the index price (instead of the FX rate above)."
   ],
   "cell_type": "markdown",
   "metadata": {}
  },
  {
   "cell_type": "code",
   "execution_count": null,
   "metadata": {},
   "outputs": [],
   "source": [
    "sx5eAsset = AssetModel(X0=3200.0,sigma=0.1)"
   ]
  },
  {
   "source": [
    "Dividend yields are modelled as deterministic. For deterministic (rates) modelling we have a *DcfModel*."
   ],
   "cell_type": "markdown",
   "metadata": {}
  },
  {
   "cell_type": "code",
   "execution_count": null,
   "metadata": {},
   "outputs": [],
   "source": [
    "from src.models.DeterministicModel import DcfModel\n",
    "sx5eYield = DcfModel(YieldCurve(0.015))"
   ]
  },
  {
   "source": [
    "Now we can plug things together into a *HybridModel*. Here we also specify *aliases* to keep track of what we are modelling."
   ],
   "cell_type": "markdown",
   "metadata": {}
  },
  {
   "cell_type": "code",
   "execution_count": null,
   "metadata": {},
   "outputs": [],
   "source": [
    "from src.models.HybridModel import HybridModel\n",
    "hybModel = HybridModel(domAlias='EUR',domRatesModel=domRates,\n",
    "    forAliases     = [    'USD',    'SX5E' ],\n",
    "    forAssetModels = [ usdAsset, sx5eAsset ],\n",
    "    forRatesModels = [ usdRates, sx5eYield ], correlations=None)"
   ]
  },
  {
   "source": [
    "Note that we did not specify a correlation matrix (which is very important for hybrid modelling). We can inspect the hybrid model to double-check the size of the required correlaction."
   ],
   "cell_type": "markdown",
   "metadata": {}
  },
  {
   "cell_type": "code",
   "execution_count": null,
   "metadata": {},
   "outputs": [],
   "source": [
    "display(hybModel.factorAliases())"
   ]
  },
  {
   "source": [
    "We see, we have four factors. To keep things simple, we assume zero correlation and thus may use the identity matrix."
   ],
   "cell_type": "markdown",
   "metadata": {}
  },
  {
   "cell_type": "code",
   "execution_count": null,
   "metadata": {},
   "outputs": [],
   "source": [
    "hybModel.correlations = np.identity(hybModel.factors())"
   ]
  },
  {
   "source": [
    "We also want to model credit risk with respect to a counterparty, say GS. Credit spreads are also modelled via rates models. To keep things brief we use a Hull White model again."
   ],
   "cell_type": "markdown",
   "metadata": {}
  },
  {
   "cell_type": "code",
   "execution_count": null,
   "metadata": {},
   "outputs": [],
   "source": [
    "gsCredit = HullWhiteModel(YieldCurve(0.0050), 0.01, np.array([10.0]), np.array([0.0050]))"
   ]
  },
  {
   "source": [
    "Credit components are attached to rates or hybrid models by means of a *CreditModel*."
   ],
   "cell_type": "markdown",
   "metadata": {}
  },
  {
   "cell_type": "code",
   "execution_count": null,
   "metadata": {},
   "outputs": [],
   "source": [
    "from src.models.CreditModel import CreditModel\n",
    "crModel = CreditModel(baseModel=hybModel,creditAliases=['GS'],\n",
    "    creditModels=[gsCredit],correlations=None)"
   ]
  },
  {
   "source": [
    "Finally, to make things complete we add an additional stochastic discount spread to mimic stochastic funding costs. Again we use a Hull White model for the spread component."
   ],
   "cell_type": "markdown",
   "metadata": {}
  },
  {
   "cell_type": "code",
   "execution_count": null,
   "metadata": {},
   "outputs": [],
   "source": [
    "fundRates = HullWhiteModel(YieldCurve(0.0025), 0.01, np.array([10.0]), np.array([0.0030]))"
   ]
  },
  {
   "cell_type": "code",
   "execution_count": null,
   "metadata": {},
   "outputs": [],
   "source": [
    "from src.models.SpreadModel import SpreadModel\n",
    "sprdModel = SpreadModel(baseModel=crModel,sprdModel=fundRates,correlations=None)"
   ]
  },
  {
   "source": [
    "Now we got everything in one place. How does the final model look like?\n",
    "\n",
    "We can check the all the model factors."
   ],
   "cell_type": "markdown",
   "metadata": {}
  },
  {
   "cell_type": "code",
   "execution_count": null,
   "metadata": {},
   "outputs": [],
   "source": [
    "display(sprdModel.factorAliases())"
   ]
  },
  {
   "source": [
    "This representation also helps to set up a corresponding correlation matrix.\n",
    "\n",
    "Note that we do not have a stochastic factor for SX5E dividends eventhough we specified a model component *sx5eYield*. This is because dividend yields are assumed deterministic and *DcfModel* does not have stochastic factors (and states).\n",
    "\n",
    "Similarly, we can ask the model for all the modelled states."
   ],
   "cell_type": "markdown",
   "metadata": {}
  },
  {
   "cell_type": "code",
   "execution_count": null,
   "metadata": {},
   "outputs": [],
   "source": [
    "display(sprdModel.stateAliases())"
   ]
  },
  {
   "source": [
    "With the complex model at hand we can now run Monte Carlo simulation again. Nothing changes here compared to the basic Hull Whte model."
   ],
   "cell_type": "markdown",
   "metadata": {}
  },
  {
   "cell_type": "code",
   "execution_count": null,
   "metadata": {},
   "outputs": [],
   "source": [
    "seed = 314159265359\n",
    "nPaths = 1\n",
    "times = np.linspace(0.0, 10.0, 3)\n",
    "mcsim = MCSimulation(sprdModel,times,nPaths,seed)\n",
    "display(mcsim.X[0,:,:])"
   ]
  },
  {
   "source": [
    "Now we can ask the model again for its simulated quantities."
   ],
   "cell_type": "markdown",
   "metadata": {}
  },
  {
   "cell_type": "code",
   "execution_count": null,
   "metadata": {},
   "outputs": [],
   "source": [
    "t = 10.0\n",
    "X = mcsim.X[0,2,:]"
   ]
  },
  {
   "source": [
    "We list a few examples here"
   ],
   "cell_type": "markdown",
   "metadata": {}
  },
  {
   "cell_type": "code",
   "execution_count": null,
   "metadata": {},
   "outputs": [],
   "source": [
    "# Domestic currency zero coupon bond without stochastic funding component\n",
    "display(sprdModel.zeroBond(t,t+5.0,X,'EUR'))\n",
    "# Domestic currency zero coupon bond with stochastic funding component\n",
    "display(sprdModel.zeroBond(t,t+5.0,X,None))\n",
    "# foreign zero coupon bond\n",
    "display(sprdModel.zeroBond(t,t+5.0,X,'USD'))\n",
    "# USD/EUR\n",
    "display(sprdModel.asset(t,X,'USD'))\n",
    "# Euro Stoxx 50\n",
    "display(sprdModel.asset(t,X,'SX5E'))\n",
    "# GS hazard rate\n",
    "display(sprdModel.hazardRate(t,X,'GS'))\n",
    "\n",
    "\n"
   ]
  },
  {
   "cell_type": "code",
   "execution_count": null,
   "metadata": {},
   "outputs": [],
   "source": []
  }
 ]
}