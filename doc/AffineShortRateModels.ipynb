{
 "metadata": {
  "language_info": {
   "codemirror_mode": {
    "name": "ipython",
    "version": 3
   },
   "file_extension": ".py",
   "mimetype": "text/x-python",
   "name": "python",
   "nbconvert_exporter": "python",
   "pygments_lexer": "ipython3",
   "version": "3.7.6-final"
  },
  "orig_nbformat": 2,
  "kernelspec": {
   "name": "python3",
   "display_name": "Python 3.7.6 64-bit ('Python3.7': conda)",
   "metadata": {
    "interpreter": {
     "hash": "af98fb13c0682ca4fe3350401d42f2a404b34a8b53a566210d6d775d501366cd"
    }
   }
  }
 },
 "nbformat": 4,
 "nbformat_minor": 2,
 "cells": [
  {
   "source": [
    "# Hybrid Monte Carlo\n",
    "\n",
    "## Affine Short Rate Models\n",
    "\n",
    "In this notebook we analyse yield curve modelling based on affine term structure models. We start with a classical CIR model. Then we analyse initial yield curve calibration via deterministic shift extension. Finally, we also analyse the impact of square root processes on volatility smile."
   ],
   "cell_type": "markdown",
   "metadata": {}
  },
  {
   "cell_type": "code",
   "execution_count": null,
   "metadata": {},
   "outputs": [],
   "source": [
    "import sys\n",
    "sys.path.append('../')  # make python find our modules\n",
    "import numpy as np\n",
    "import pandas as pd\n",
    "import plotly.express as px\n",
    "import plotly.graph_objects as go\n",
    "import QuantLib as ql"
   ]
  },
  {
   "source": [
    "## CIR Model Properties\n",
    "\n",
    "As a first step we wet up a CIR model and analyse modelled yield curves and volatilities."
   ],
   "cell_type": "markdown",
   "metadata": {}
  },
  {
   "cell_type": "code",
   "execution_count": null,
   "metadata": {},
   "outputs": [],
   "source": [
    "from hybmc.models.AffineShortRateModel import CoxIngersollRossModel, quadraticExponential, cirMoments\n",
    "\n",
    "r0         = 0.02\n",
    "chi_       = 0.07\n",
    "theta_     = 0.05\n",
    "sigma_     = 0.07\n",
    "cirModel = CoxIngersollRossModel(r0,chi_,theta_,sigma_,quadraticExponential(1.5))"
   ]
  },
  {
   "source": [
    "We have a look at the *intitial* yield curve implied by the model."
   ],
   "cell_type": "markdown",
   "metadata": {}
  },
  {
   "cell_type": "code",
   "execution_count": null,
   "metadata": {},
   "outputs": [],
   "source": [
    "dT = 1.0/365.0\n",
    "f = lambda t, T, rt : np.log(cirModel.zeroBondPrice(t,T,rt) / cirModel.zeroBondPrice(t,T+dT,rt)) / dT"
   ]
  },
  {
   "source": [
    "T = np.linspace(0.0,20.0,21)\n",
    "\n",
    "X0 = cirModel.initialValues()\n",
    "f_ = np.array([ f(0.0,T_,cirModel.r0) for T_ in T ])    \n",
    "curve = pd.DataFrame([ T, f_ ]).T\n",
    "curve.columns = ['T', 'f(0,T)']\n",
    "fig = px.line(curve, x='T', y='f(0,T)')\n",
    "fig.show()"
   ],
   "cell_type": "code",
   "metadata": {},
   "execution_count": null,
   "outputs": []
  },
  {
   "source": [
    "Next we check *future* model-implied curves."
   ],
   "cell_type": "markdown",
   "metadata": {}
  },
  {
   "cell_type": "code",
   "execution_count": null,
   "metadata": {},
   "outputs": [],
   "source": [
    "T0 = 5.0\n",
    "shortRates = np.linspace(0.02, 0.04, 5)\n",
    "for r in reversed(shortRates):\n",
    "    f_ = np.array([ f(T0,T0+T_,r) for T_ in T ])\n",
    "    fig.add_trace(go.Scatter(x=T0+T, y=f_, mode='lines', name='r=%6.4f'%r))\n",
    "fig.show()"
   ]
  },
  {
   "source": [
    "The humped shape looks much better compared to Hull-White model."
   ],
   "cell_type": "markdown",
   "metadata": {}
  },
  {
   "source": [
    "We are also interested in the volatility of rates.\n",
    "\n",
    "Zero bonds are given by $P(t,T,r) = \\exp(-B_{CIR}(t,T) r(t) + A_{CIR})(t,T)$. Future zero rates from $T_0$ to $T_1$ are defined also\n",
    "\n",
    "\\begin{align}\n",
    " F(t;T_0,T_0) &= \\frac{1}{T_1-T_0} \\log\\left( \\frac{P\\left(t,T_0,r(t)\\right)}{P\\left(t,T_1,r(t)\\right)} \\right) \\\\\n",
    "              &= \\frac{-\\left[ B_{CIR}(t,T_0) - B_{CIR}(t,T_1)\\right] r(t) + A_{CIR}(t,T_0) - A_{CIR}(t,T_1) }{T_1-T_0}.\n",
    "\\end{align}\n",
    "\n",
    "In particular, we get for the variance of $F(T_0,T_0,T_1)$\n",
    "\n",
    "$$\n",
    " Var\\left[ F(T_0,T_0,T_1) \\right] = \\left[ \\frac{B_{CIR}(T_0,T_1)}{T_1-T_0} \\right]^2 \\cdot  Var\\left[ r(T_0) \\right].\n",
    "$$\n",
    "\n",
    "This yields the proxy ATM swap rate volatility\n",
    "$$\n",
    "  \\sigma(T_0,T_1) = \\underbrace{\\frac{B_{CIR}(T_0,T_1)}{T_1-T_0}}_{\\lambda(T_0,T_1)} \n",
    "                    \\underbrace{\\sqrt{ \\frac{Var\\left[ r(T_0) \\right]}{T_0} } }_{\\sigma_{CIR}}\n",
    "$$"
   ],
   "cell_type": "markdown",
   "metadata": {}
  },
  {
   "cell_type": "code",
   "execution_count": null,
   "metadata": {},
   "outputs": [],
   "source": [
    "lambda_ = lambda T0,T1 : cirModel.ricattiAB(T0,T1,0.0,1.0)[1] / (T1 - T0)\n",
    "expiryTimes = np.linspace(1.0, 10.0,10)\n",
    "swapTerms = np.linspace(1.0, 10.0,10)\n",
    "scalings = pd.DataFrame([ [T0, dT, lambda_(T0,T0+dT)] for T0 in expiryTimes for dT in swapTerms ],columns=['T0', 'dT', 'scaling'])\n",
    "#fig = go.Figure(data=[go.Surface(x=scalings.T0,y=scalings.dT,z=scalings.scaling)])\n",
    "fig = px.scatter_3d(scalings, x='T0', y='dT', z='scaling')\n",
    "fig.show()"
   ]
  },
  {
   "cell_type": "code",
   "execution_count": null,
   "metadata": {},
   "outputs": [],
   "source": [
    "sigma_CIR = lambda T0 : np.sqrt(cirMoments(cirModel.r0,T0,cirModel.chi(0.0),cirModel.theta(0.0),cirModel.sigma(0.0))[1] / T0)\n",
    "vols = pd.DataFrame([ [T0, sigma_CIR(T0)] for T0 in expiryTimes], columns=['T0','sigma_CIR'])\n",
    "fig = px.line(vols,x='T0',y='sigma_CIR')\n",
    "fig.show()"
   ]
  },
  {
   "source": [
    "## Yield Curve Fit"
   ],
   "cell_type": "markdown",
   "metadata": {}
  },
  {
   "cell_type": "code",
   "execution_count": null,
   "metadata": {},
   "outputs": [],
   "source": [
    "import QuantLib as ql\n",
    "today = ql.Settings.instance().evaluationDate\n",
    "curveData = pd.DataFrame([[ 0.0,   5.0,   10.0,   20.0   ],\n",
    "                          [ 0.020, 0.028,  0.033,  0.035 ]]).T\n",
    "curveData.columns = ['T', 'f']\n",
    "curveData['Date'] = [ today + int(t*365) for t in curveData['T'] ]\n",
    "yts = ql.ForwardCurve(curveData['Date'],curveData['f'],ql.Actual365Fixed())"
   ]
  },
  {
   "cell_type": "code",
   "execution_count": null,
   "metadata": {},
   "outputs": [],
   "source": [
    "fMarket = lambda T : yts.forwardRate(T,T,ql.Continuous).rate()\n",
    "curve['fM(0,T)'] = [ fMarket(T) for T in curve['T'] ]\n",
    "fig = go.Figure()\n",
    "fig.add_trace(go.Scatter(x=curve['T'], y=curve['f(0,T)'], mode='lines', name='f(0,T)'))\n",
    "fig.add_trace(go.Scatter(x=curve['T'], y=curve['fM(0,T)'], mode='lines', name='fM(0,T)'))\n",
    "fig.show()"
   ]
  },
  {
   "cell_type": "code",
   "execution_count": null,
   "metadata": {},
   "outputs": [],
   "source": [
    "zeroRateCir = lambda T : -np.log(cirModel.zeroBondPrice(0.0,T,cirModel.r0))/T\n",
    "zeroRateYts = lambda T : -np.log(yts.discount(T)) / T\n",
    "zeros = pd.DataFrame(np.linspace(0.1,20,200),columns=['T'])\n",
    "zeros['CIR'] = [ zeroRateCir(T) for T in zeros['T'] ]\n",
    "zeros['Yts'] = [ zeroRateYts(T) for T in zeros['T'] ]\n",
    "fig = go.Figure()\n",
    "fig.add_trace(go.Scatter(x=zeros['T'], y=zeros['CIR'], mode='lines', name='CIR'))\n",
    "fig.add_trace(go.Scatter(x=zeros['T'], y=zeros['Yts'], mode='lines', name='Yts'))\n",
    "fig.show()"
   ]
  },
  {
   "cell_type": "code",
   "execution_count": null,
   "metadata": {},
   "outputs": [],
   "source": [
    "from hybmc.models.ShiftedRatesModel import ShiftedRatesModel\n",
    "shiModel = ShiftedRatesModel(yts,cirModel)"
   ]
  },
  {
   "cell_type": "code",
   "execution_count": null,
   "metadata": {},
   "outputs": [],
   "source": [
    "from hybmc.simulations.McSimulation import McSimulation\n",
    "\n",
    "times = np.linspace(0.0,20.0,21)\n",
    "nPaths = 2**13\n",
    "seed = 3141\n",
    "simCir = McSimulation(cirModel,times,nPaths,seed,showProgress=True)\n",
    "simShi = McSimulation(shiModel,times,nPaths,seed,showProgress=True)\n",
    "#\n",
    "dT = 0.0\n",
    "zcbCir = np.mean(np.array([\n",
    "        [ cirModel.zeroBond(times[t],times[t]+dT,simCir.X[p,t,:],None) / cirModel.numeraire(times[t],simCir.X[p,t,:]) for t in range(len(times)) ]\n",
    "        for p in range(nPaths) ]), axis=0)\n",
    "zcbShi = np.mean(np.array([\n",
    "        [ shiModel.zeroBond(times[t],times[t]+dT,simShi.X[p,t,:],None) / shiModel.numeraire(times[t],simShi.X[p,t,:]) for t in range(len(times)) ]\n",
    "        for p in range(nPaths) ]), axis=0)\n",
    "#\n",
    "mcZeroCir = [ -np.log(df)/T for df,T in zip(zcbCir,times) ]\n",
    "mcZeroShi = [ -np.log(df)/T for df,T in zip(zcbShi,times) ]\n",
    "fig.add_trace(go.Scatter(x=times[1:], y=mcZeroCir[1:], mode='markers', name='CIR'))\n",
    "fig.add_trace(go.Scatter(x=times[1:], y=mcZeroShi[1:], mode='markers', name='Yts'))\n",
    "fig.show()"
   ]
  },
  {
   "cell_type": "code",
   "execution_count": null,
   "metadata": {},
   "outputs": [],
   "source": []
  }
 ]
}