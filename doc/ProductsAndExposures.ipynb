{
 "metadata": {
  "language_info": {
   "codemirror_mode": {
    "name": "ipython",
    "version": 3
   },
   "file_extension": ".py",
   "mimetype": "text/x-python",
   "name": "python",
   "nbconvert_exporter": "python",
   "pygments_lexer": "ipython3",
   "version": "3.7.6-final"
  },
  "orig_nbformat": 2,
  "kernelspec": {
   "name": "Python 3.7.6 64-bit ('Python3.7': conda)",
   "display_name": "Python 3.7.6 64-bit ('Python3.7': conda)",
   "metadata": {
    "interpreter": {
     "hash": "af98fb13c0682ca4fe3350401d42f2a404b34a8b53a566210d6d775d501366cd"
    }
   }
  }
 },
 "nbformat": 4,
 "nbformat_minor": 2,
 "cells": [
  {
   "source": [
    "# Hybrid Monte Carlo\n",
    "\n",
    "## Products And Exposures\n",
    "\n",
    "In this notebook we demonstrate the setup of products and the calculation of exposures. In practice products are specified by actual dates (not model times). We use QuantLib to handle date arithmetics (calenders, day counts, etc.) in product specifications.\n",
    "\n",
    "This notebook is structured along the following sections:\n",
    "\n",
    "  1.  Setting up a cash flow leg in QuantLib\n",
    "  2.  Constructing and inspecting a swap product\n",
    "  3.  Calculating exposures with MC and AMC\n",
    "\n",
    "We use a couple of standard packages for calculation and analysis"
   ],
   "cell_type": "markdown",
   "metadata": {}
  },
  {
   "cell_type": "code",
   "execution_count": null,
   "metadata": {},
   "outputs": [],
   "source": [
    "import sys\n",
    "sys.path.append('../')  # make python find our modules\n",
    "import numpy as np\n",
    "import pandas as pd\n",
    "import plotly.express as px"
   ]
  },
  {
   "source": [
    "The following auxilliary method lists the relevant members of an object. We use it to inspect the objects created. "
   ],
   "cell_type": "markdown",
   "metadata": {}
  },
  {
   "cell_type": "code",
   "execution_count": null,
   "metadata": {},
   "outputs": [],
   "source": [
    "def members(obj):\n",
    "    return [f for f in dir(obj) if not f.startswith('_')] "
   ]
  },
  {
   "source": [
    "### Setting up a cash flow leg in QuantLib\n",
    "\n",
    "For general details on QuantLib see e.g. https://www.quantlib.org/\n",
    "\n",
    "Here we demonstrate the features required to set up simple cash flow legs.\n",
    "\n",
    "QuantLib has a global evaluation date. This is the date from which time periods for term structures and models are calculated. We set evaluation date at inception and keep it fixed during the run of the session."
   ],
   "cell_type": "markdown",
   "metadata": {}
  },
  {
   "cell_type": "code",
   "execution_count": null,
   "metadata": {},
   "outputs": [],
   "source": [
    "import QuantLib as ql\n",
    "today     = ql.Date(5,ql.October,2020)\n",
    "ql.Settings.instance().evaluationDate = today"
   ]
  },
  {
   "source": [
    "We want to set up a fixed leg and a standard floating leg. For multi-curve modelling we need to take into account the tenor basis. Roughly speaking, tenor basis is the difference between projection curve and discount curve. Consequently, to model tenor basis we need a projection curve and a discount curve."
   ],
   "cell_type": "markdown",
   "metadata": {}
  },
  {
   "cell_type": "code",
   "execution_count": null,
   "metadata": {},
   "outputs": [],
   "source": [
    "discYtsH = ql.YieldTermStructureHandle(\n",
    "            ql.FlatForward(today,0.01,ql.Actual365Fixed()))\n",
    "projYtsH = ql.YieldTermStructureHandle(\n",
    "            ql.FlatForward(today,0.02,ql.Actual365Fixed()))"
   ]
  },
  {
   "source": [
    "In this example we set discount curve flat at *1%* continuous componded zero rate and projection curve flat at *2%* continuous componded zero rate. A *ql.FlatForward()* object is equivalent to our *YieldCurve()* object. QuantLib's *ql.YieldTermStructureHandle()* is just a double-indirection for the underlying curve.\n",
    "\n",
    "Euribor/Libor forward rates are modelled in QunatLib via indizes. We set up an *Euribor* index."
   ],
   "cell_type": "markdown",
   "metadata": {}
  },
  {
   "cell_type": "code",
   "execution_count": null,
   "metadata": {},
   "outputs": [],
   "source": [
    "index = ql.Euribor6M(projYtsH)"
   ]
  },
  {
   "source": [
    "Cash flow dates are specified via *Schedule* objects. For details on how to construct QuantLib schedules see https://github.com/lballabio/QuantLib-SWIG/blob/master/SWIG/scheduler.i."
   ],
   "cell_type": "markdown",
   "metadata": {}
  },
  {
   "cell_type": "code",
   "execution_count": null,
   "metadata": {},
   "outputs": [],
   "source": [
    "# we set start in the future to avoid the need of index fixings\n",
    "startDate  = ql.Date(12,ql.October,2020)\n",
    "endDate    = ql.Date(12,ql.October,2030)\n",
    "calendar   = ql.TARGET()\n",
    "fixedTenor = ql.Period('1y')\n",
    "floatTenor = ql.Period('6m')\n",
    "fixedSchedule = ql.MakeSchedule(startDate,endDate,tenor=fixedTenor,calendar=calendar)\n",
    "floatSchedule = ql.MakeSchedule(startDate,endDate,tenor=floatTenor,calendar=calendar)"
   ]
  },
  {
   "source": [
    "A schedule behaves essentially like a list of dates."
   ],
   "cell_type": "markdown",
   "metadata": {}
  },
  {
   "cell_type": "code",
   "execution_count": null,
   "metadata": {},
   "outputs": [],
   "source": [
    "display(list(fixedSchedule))"
   ]
  },
  {
   "source": [
    "Now we can setup a fixed leg. For details on how to setup cash flow legs with QuantLib see https://github.com/lballabio/QuantLib-SWIG/blob/master/SWIG/cashflows.i."
   ],
   "cell_type": "markdown",
   "metadata": {}
  },
  {
   "cell_type": "code",
   "execution_count": null,
   "metadata": {},
   "outputs": [],
   "source": [
    "couponDayCount = ql.Thirty360()\n",
    "notional = 1.0\n",
    "fixedRate = 0.02\n",
    "fixedLeg = ql.FixedRateLeg(fixedSchedule,couponDayCount,[notional],[fixedRate])"
   ]
  },
  {
   "source": [
    "Similarly, we can setup a floating rate leg."
   ],
   "cell_type": "markdown",
   "metadata": {}
  },
  {
   "cell_type": "code",
   "execution_count": null,
   "metadata": {},
   "outputs": [],
   "source": [
    "floatingLeg = ql.IborLeg([notional],floatSchedule,index)"
   ]
  },
  {
   "source": [
    "Cash flow legs behave like lists of cash flows."
   ],
   "cell_type": "markdown",
   "metadata": {}
  },
  {
   "cell_type": "code",
   "execution_count": null,
   "metadata": {},
   "outputs": [],
   "source": [
    "display([ cf.amount() for cf in fixedLeg ])"
   ]
  },
  {
   "source": [
    "We can calculate present value of the legs using the discount curve."
   ],
   "cell_type": "markdown",
   "metadata": {}
  },
  {
   "cell_type": "code",
   "execution_count": null,
   "metadata": {},
   "outputs": [],
   "source": [
    "display('FixedLeg npv:    %.4f' % ql.CashFlows_npv(fixedLeg,discYtsH,True))\n",
    "display('FloatingLeg npv: %.4f' % ql.CashFlows_npv(floatingLeg,discYtsH,True))"
   ]
  },
  {
   "source": [
    "### Constructing and inspecting a swap product\n",
    "\n",
    "A *Product* object represents a financial instrument with one or several cash flows. Each cash flow is represented as a Monte Carlo payoff $V_i(T_i)$ that is paid at $T_i$.\n",
    "\n",
    "The *Product* objects implement a function *cashflows(obsTime)*. This function calculates payoffs with observation time $t$ that calculate (or estimate)\n",
    "$$\n",
    "  V(t) = B(t) \\mathbb{E} \\left[\n",
    "      \\sum_{T_i>t} \\frac{V_i(T_i)}{B(T_i)} \\, | \\, \\cal{F}_t\n",
    "      \\right]\n",
    "      = \\sum_{T_i>t} \\mathbb{E} \\left[\n",
    "      \\frac{V_i(T_i)}{B(T_i)} \\, | \\, \\cal{F}_t\n",
    "      \\right].\n",
    "$$\n",
    "\n",
    "If the payoffs $V_i$ are simple enough such that $\\mathbb{E} \\left[ V_i(T_i) / B(T_i) \\, | \\, \\cal{F}_t \\right]$ can be calculated in closed form then we use this analytic expression in the cash flow method. This is typically the case for linear products and Vanilla options.\n",
    "\n",
    "For complex payoffs without analytical expression for $\\mathbb{E} \\left[ V_i(T_i) / B(T_i) \\, | \\, \\cal{F}_t \\right]$ we use AMC to estimate the conditional expectation.\n",
    "\n",
    "We implement a *Swap* product that uses the discounted cash flows and forward Libor rates for the analytical payoff expessions.\n",
    "\n",
    "A *Swap* product is represented by a list of fixed or Ibor legs. Moreover, we need to specify whether we receive (+1) or pay (-1) a leg. The calculation of tenor basis also requires the discount curve."
   ],
   "cell_type": "markdown",
   "metadata": {}
  },
  {
   "cell_type": "code",
   "execution_count": null,
   "metadata": {},
   "outputs": [],
   "source": [
    "from hybmc.products.Swap import Swap\n",
    "swap = Swap([fixedLeg,floatingLeg],[1.0,-1.0],discYtsH)"
   ]
  },
  {
   "source": [
    "We check the cash flow calculation at $t=9.0$, i.e. approximately 1y bevor swap maturity."
   ],
   "cell_type": "markdown",
   "metadata": {}
  },
  {
   "cell_type": "code",
   "execution_count": null,
   "metadata": {},
   "outputs": [],
   "source": [
    "cfs = swap.cashFlows(9.0)\n",
    "display([str(cf) for cf in cfs])"
   ]
  },
  {
   "source": [
    "We make the following observations:\n",
    "  -  We have two remaining fixed leg payments. The first fixed leg payment is paid at $T=9.02$ and\n",
    "     the second fixed leg payment is paid at $T=10.03$.\n",
    "  -  Similarly, we have three remaining floating rate payments.\n",
    "  -  Payoffs are discounted to time $t=9.0$, see *P_None(9.00,.)*.\n",
    "  -  Payoffs are observed at $t=9.0$, see *@ 9.00*.\n",
    "\n",
    "Also note that the first Libor cash flow has fixing time $8.52$ compared to $9.0$ for the other cash flows. This is correct, because at observation time $t=9.0$ the the Libor rate is alsready fixed but the coupon is not yet paid.\n",
    "\n",
    "For the other Libor cash flows the actual Libor fixing is in the future (later than  $t=9.0$). However, we can calculate (using $T_i$-forward measure)\n",
    "$$\n",
    "  B(t) \\cdot \\mathbb{E} \\left[ V_i(T_i) / B(T_i) \\, | \\, \\cal{F}_t \\right]\n",
    "  =\n",
    "  P(t,T_i) \\cdot \\mathbb{E}^{T_i} \\left[ V_i(T_i) \\, | \\, \\cal{F}_t \\right].\n",
    "$$\n",
    "And for a Libor rate $\\mathbb{E}^{T_i} \\left[ L_i(T_i) \\, | \\, \\cal{F}_t \\right]$ becomes the forward Libor rate with observation time equal to $t$.\n"
   ],
   "cell_type": "markdown",
   "metadata": {}
  },
  {
   "source": [
    "If we calculate cash flows at $t=0$ then we get the full list of product cash flows."
   ],
   "cell_type": "markdown",
   "metadata": {}
  },
  {
   "cell_type": "code",
   "execution_count": null,
   "metadata": {},
   "outputs": [],
   "source": [
    "cfs = swap.cashFlows(0.0)\n",
    "display([str(cf) for cf in cfs])"
   ]
  },
  {
   "source": [
    "We can use a deterministic model to calculate these payoffs."
   ],
   "cell_type": "markdown",
   "metadata": {}
  },
  {
   "cell_type": "code",
   "execution_count": null,
   "metadata": {},
   "outputs": [],
   "source": [
    "from hybmc.models.DeterministicModel import DcfModel\n",
    "path = DcfModel(discYtsH).path()\n",
    "amounts = np.array([ cf.discountedAt(path) for cf in cfs ])\n",
    "display(amounts)"
   ]
  },
  {
   "source": [
    "We can double-check the valuation against QuantLib's valuation of the fixed and float leg."
   ],
   "cell_type": "markdown",
   "metadata": {}
  },
  {
   "cell_type": "code",
   "execution_count": null,
   "metadata": {},
   "outputs": [],
   "source": [
    "amountsQl = np.array(\n",
    "    [cf.amount() * discYtsH.discount(cf.date()) for cf in fixedLeg] +\n",
    "    [-cf.amount() * discYtsH.discount(cf.date()) for cf in floatingLeg] )\n",
    "display(amountsQl)"
   ]
  },
  {
   "source": [
    "This looks good except the 12th floating rate cash flow (with index 11):"
   ],
   "cell_type": "markdown",
   "metadata": {}
  },
  {
   "cell_type": "code",
   "execution_count": null,
   "metadata": {},
   "outputs": [],
   "source": [
    "display(str(cfs[21]))\n",
    "display(cfs[21].discountedAt(path))\n",
    "cf = list(floatingLeg)[11]\n",
    "display(-cf.amount() * discYtsH.discount(cf.date()))"
   ]
  },
  {
   "source": [
    "That is an interesting case. Differences are probably due to some slight date mismatch in accrual period versus fixing period."
   ],
   "cell_type": "markdown",
   "metadata": {}
  },
  {
   "source": [
    "### Calculating exposures with MC and AMC\n",
    "\n",
    "Once the cash flow method is implemented for a product we can call it for a range of observation times. This gives a *time line* of payoffs."
   ],
   "cell_type": "markdown",
   "metadata": {}
  },
  {
   "cell_type": "code",
   "execution_count": null,
   "metadata": {},
   "outputs": [],
   "source": [
    "timeline = swap.timeLine([0.0, 3.0, 10.0])\n",
    "for t in timeline:\n",
    "    print('ObsTime: %.2f' % t)\n",
    "    for p in timeline[t]:\n",
    "        print(p)\n"
   ]
  },
  {
   "source": [
    "For exposure valuation we need to set up a model and a MC simulation."
   ],
   "cell_type": "markdown",
   "metadata": {}
  },
  {
   "cell_type": "code",
   "execution_count": null,
   "metadata": {},
   "outputs": [],
   "source": [
    "from hybmc.models.HullWhiteModel import HullWhiteModel\n",
    "from hybmc.simulations.McSimulation import McSimulation\n",
    "model = HullWhiteModel(discYtsH,0.03,np.array([10.0]),np.array([0.0050]))\n",
    "mcsim = McSimulation(model,np.linspace(0.0,10.0,41),2**10,314159265359,True)"
   ]
  },
  {
   "source": [
    "Now we can calculate scenarios for the time line."
   ],
   "cell_type": "markdown",
   "metadata": {}
  },
  {
   "cell_type": "code",
   "execution_count": null,
   "metadata": {},
   "outputs": [],
   "source": [
    "times = np.linspace(0.0,10.0,41)\n",
    "scens = swap.scenarios(times,mcsim)"
   ]
  },
  {
   "source": [
    "For exposure simulation we are interested in the $\\mathbb{E}[V(t)^+]$."
   ],
   "cell_type": "markdown",
   "metadata": {}
  },
  {
   "cell_type": "code",
   "execution_count": null,
   "metadata": {},
   "outputs": [],
   "source": [
    "epeDcf = np.average(np.maximum(scens,0.0),axis=0)"
   ]
  },
  {
   "source": [
    "We plot the exposure profile."
   ],
   "cell_type": "markdown",
   "metadata": {}
  },
  {
   "cell_type": "code",
   "execution_count": null,
   "metadata": {},
   "outputs": [],
   "source": [
    "\n",
    "dfDcf = pd.DataFrame([ times, epeDcf ]).T\n",
    "dfDcf.columns = ['times', 'epeDcf']\n",
    "fig = px.line(dfDcf,x='times',y='epeDcf')\n",
    "fig.show()"
   ]
  },
  {
   "source": [
    "Alternatively (and as a proof of concept), we can also setup a swap time line using American Monte Carlo."
   ],
   "cell_type": "markdown",
   "metadata": {}
  },
  {
   "cell_type": "code",
   "execution_count": null,
   "metadata": {},
   "outputs": [],
   "source": [
    "from hybmc.products.Swap import AmcSwap\n",
    "mcsim_training = McSimulation(model,np.linspace(0.0,10.0,41),2**10,2718281828,True)\n",
    "swap = AmcSwap([fixedLeg,floatingLeg],[1.0,-1.0],mcsim_training,2,discYtsH)"
   ]
  },
  {
   "cell_type": "code",
   "execution_count": null,
   "metadata": {},
   "outputs": [],
   "source": [
    "cfs = swap.cashFlows(9.0)\n",
    "display([str(cf) for cf in cfs])"
   ]
  },
  {
   "source": [
    "Here we see a single payoff per observation time. That payoff is a AMC regression payoff that references the actual swap payoffs at future pay times.\n",
    "\n",
    "As regresssion variable we use a *co-terminal Libor rate*. That is a bit unusual, but it does the job.\n",
    "\n",
    "Similarly, as with the analytic approach we calculate scenarion and expected (positive) exposures."
   ],
   "cell_type": "markdown",
   "metadata": {}
  },
  {
   "cell_type": "code",
   "execution_count": null,
   "metadata": {},
   "outputs": [],
   "source": [
    "scens = swap.scenarios(times,mcsim)\n",
    "epeAmc = np.average(np.maximum(scens,0.0),axis=0)"
   ]
  },
  {
   "cell_type": "code",
   "execution_count": null,
   "metadata": {},
   "outputs": [],
   "source": [
    "dfAmc = pd.DataFrame([ times, epeAmc ]).T\n",
    "dfAmc.columns = ['times', 'epeAmc']\n",
    "fig = px.line(dfAmc,x='times',y='epeAmc')\n",
    "fig.show()"
   ]
  },
  {
   "source": [
    "Finally, we compare profiles from analytic and AMC method."
   ],
   "cell_type": "markdown",
   "metadata": {}
  },
  {
   "cell_type": "code",
   "execution_count": null,
   "metadata": {},
   "outputs": [],
   "source": [
    "dfDcf.columns = ['times', 'epe']\n",
    "dfDcf['type'] = 'Dcf'\n",
    "dfAmc.columns = ['times', 'epe']\n",
    "dfAmc['type'] = 'Amc'\n",
    "df = pd.concat([dfDcf,dfAmc],axis=0)"
   ]
  },
  {
   "cell_type": "code",
   "execution_count": null,
   "metadata": {},
   "outputs": [],
   "source": [
    "fig = px.line(df,x='times',y='epe', color='type')\n",
    "fig.show()"
   ]
  },
  {
   "cell_type": "code",
   "execution_count": null,
   "metadata": {},
   "outputs": [],
   "source": []
  }
 ]
}