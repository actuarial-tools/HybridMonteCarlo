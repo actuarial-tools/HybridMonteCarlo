{
 "metadata": {
  "language_info": {
   "codemirror_mode": {
    "name": "ipython",
    "version": 3
   },
   "file_extension": ".py",
   "mimetype": "text/x-python",
   "name": "python",
   "nbconvert_exporter": "python",
   "pygments_lexer": "ipython3",
   "version": "3.7.6-final"
  },
  "orig_nbformat": 2,
  "kernelspec": {
   "name": "python3",
   "display_name": "Python 3",
   "language": "python"
  }
 },
 "nbformat": 4,
 "nbformat_minor": 2,
 "cells": [
  {
   "source": [
    "# Hybrid Monte Carlo\n",
    "\n",
    "## Markov Models\n",
    "\n",
    "In this notebook we analyse the evolution of HJM / Markov models. These models arise e.g. from Quasi Gaussian rates models or Markov Futures models."
   ],
   "cell_type": "markdown",
   "metadata": {}
  },
  {
   "source": [
    "We assume the model is driven by $d$-dimensional state variable $x$ and $d\\times d$-dimensional auxilliary variable $y$.\n",
    "\n",
    "The state variable $x$ follows a mean-reverting dynamic\n",
    "$$\n",
    "  dx(t) = \\left[ \\theta(y,t) - \\chi(t) x(t) \\right] dt + \\sigma(t)^\\top dW(t).\n",
    "$$\n",
    "Model parameters are $d\\times d$-matrix of volatilities $\\sigma(t)$ and diagonal $d\\times d$-matrix of mean reversion speed parameters $\\chi(t)$. The $d$-dimensional drift vector $\\theta(y,t)$ couples state variables $x$ and auxilliary variables $y$.\n",
    "\n",
    "The auxilliary variables $y$ follow the convection equation\n",
    "$$\n",
    "  dy(t) = \\left[ \\sigma(t)^\\top \\sigma(t) - \\chi(t) y(t) - y(t) \\chi(t) \\right] dt.\n",
    "$$\n",
    "\n",
    "### Quasi-Gaussian Model\n",
    "\n",
    "For Quasi-Gaussian rates models the drift term becomes\n",
    "$$\n",
    "  \\theta(y,t) = y(t) \\mathbb{1}.\n",
    "$$\n",
    "\n",
    "### Markov Futures Model\n",
    "\n",
    "For Markov Futures models the drift term becomes\n",
    "$$\n",
    "  \\theta(y,t) = \\frac{1}{2} \\left[ y(t)\\chi(t) - \\sigma(t)^\\top \\sigma(t) \\right] \\mathbb{1}.\n",
    "$$\n",
    "\n",
    "### Notation\n",
    "\n",
    "We use the following functions to structure our notation:\n",
    "$$\n",
    "  H(s,t)   = \\text{diag}\\left\\{ h_i(s,t)\\right\\},\n",
    "  \\quad \\text{with} \\quad\n",
    "  h_i(s,t) = \\exp\\left\\{ -\\int_s^t \\chi_i(u)du \\right\\}\n",
    "$$\n",
    "and\n",
    "$$\n",
    "  G(s,t)  = \\int_s^t H(s,u)du = \\int_s^t H(u,t)du.\n",
    "$$\n",
    "Functions $G$ and $H$ are related via $G'(s,t)=\\partial G(s,t)/\\partial t = H(s,t)$.\n",
    "\n",
    "Moreover, we denote the instantanous variance as\n",
    "$$\n",
    "  V(t) = \\sigma(t)^\\top \\sigma(t).\n",
    "$$\n"
   ],
   "cell_type": "markdown",
   "metadata": {}
  },
  {
   "source": [
    "## Evolution of State and Auxilliary Variables\n",
    "\n",
    "In this section we derive a representation of the state and auxilliary variables. This representation is the basis for Monte-Carlo simulation.\n",
    "\n",
    "We consider a time intervall from $s$ to $t$ ($s<t$). To simplify notation and derivation we assume model parameters are constant on that intervall. That is $\\sigma(u)=\\sigma$ and $\\chi(u)=\\chi$ for $u\\in (s, t]$.\n",
    "\n",
    "Note that even though model parameters are assumed (piece-wise) constant the drift term $\\theta(u,t)$ is modelled exact. This is required because this quantity grows monotonically in time.\n",
    "\n",
    "\n"
   ],
   "cell_type": "markdown",
   "metadata": {}
  },
  {
   "source": [
    "### Auxilliary Variables\n",
    "\n",
    "The dynamics for $y$ are\n",
    "$$\n",
    "  dy(t) = \\left[ V(t) - \\chi(t) y(t) - y(t) \\chi(t) \\right] dt.\n",
    "$$\n",
    "The solution to this linear systems of ODEs is given by\n",
    "$$\n",
    " y(t) = H(s,t)y(s)H(s,t) +\n",
    "        \\underbrace{\\int_s^t H(u,t) V(u) H(u,t)du}_{M(s,t)}.\n",
    "$$\n",
    "\n",
    "For constant parameters the integral $M(s,t) = \\left[ M_{i,j}(s,t) \\right]$ is given as\n",
    "$$\n",
    "  M_{i,j}(s,t) = V_{i,j} \\frac{1 - e^{-(\\chi_i + \\chi_j)(t-s)}}{\\chi_i + \\chi_j}.\n",
    "$$\n",
    "The elements of the first term $H(s,t)y(s)H(s,t)$ are $y_{i,j}(s)e^{-(\\chi_i + \\chi_j)(t-s)}$. This yields a representation of the elements $y_{i,j}(t)$ which we will use later on.\n",
    "\n",
    "We get the representation of auxilliary variable elements as\n",
    "\\begin{align}\n",
    "  y_{i,j}(t) &= y_{i,j}(s)e^{-(\\chi_i + \\chi_j)(t-s)} + \n",
    "                V_{i,j} \\frac{1 - e^{-(\\chi_i + \\chi_j)(t-s)}}{\\chi_i + \\chi_j} \\\\\n",
    "             &= \\left[ y_{i,j}(s) - \\frac{V_{i,j}}{\\chi_i + \\chi_j} \\right] \n",
    "                 e^{-(\\chi_i + \\chi_j)(t-s)} +\n",
    "                 \\frac{V_{i,j}}{\\chi_i + \\chi_j}. \\\\\n",
    "             &= a_{i,j} e^{-(\\chi_i + \\chi_j)(t-s)} + b_{i,j}\n",
    "\\end{align}\n",
    "with $b_{i,j} = V_{i,j} / (\\chi_i + \\chi_j)$ and $a_{i,j} = V_{i,j} - b_{i,j}$.\n",
    "\n",
    "Substituting $B = \\left[ b_{i,j} \\right]_{i,j}$ we get the matrix representation $A = y(s)-B$ and\n",
    "$$\n",
    "  y(t) = H(s,t) A H(s,t) + B.\n",
    "$$"
   ],
   "cell_type": "markdown",
   "metadata": {}
  },
  {
   "source": [
    "### State Variable\n",
    "\n",
    "We have\n",
    "$$\n",
    "  dx(t) = \\left[ \\theta(y,t) - \\chi(t) x(t) \\right] dt + \\sigma(t)^\\top dW(t).\n",
    "$$\n",
    "\n",
    "The solution is given as\n",
    "$$\n",
    " x(t) = H(s,t) \\left[ x(s) + \\int_s^t H(s,u)^{-1}\n",
    "        \\left[ \\theta(y,u) du + \\sigma(u)^\\top dW(u) \\right] \\right].\n",
    "$$\n",
    "\n",
    "Covariance conditional on time $s$ becomes\n",
    "$$\n",
    "  \\text{Cov}_s \\left[x(t)\\right] = \\int_s^t H(u,t) \\sigma(u)^\\top \\sigma(u) H(u,t) du.\n",
    "$$\n",
    "It turns out that\n",
    "$$\n",
    "  \\text{Cov}_s \\left[x(t)\\right] = \\int_s^t H(u,t) V(u) H(u,t) du = M(s,t).\n",
    "$$\n",
    "\n",
    "Conditional expectation is given as\n",
    "$$\n",
    "  \\mathbb{E}_s\\left[x(t)\\right] = H(s,t) x(s) + \\int_s^t H(u,t) \\theta(y,u) du.\n",
    "$$\n",
    "\n",
    "For general drift functions $\\theta(y,t)$ and with the representation $y(t) = H(s,t) A H(s,t) + B$ we can formulate $f(u) =  H(u,t) \\theta\\left(y(u),u\\right)$. Then we can apply standard quadrature methods to calculate $\\int_s^t f(u) du$. This typically works well since functions involved are smooth."
   ],
   "cell_type": "markdown",
   "metadata": {}
  },
  {
   "source": [
    "### Integrated Auxilliary Variable\n",
    "\n",
    "The conditional expectation of the state variable requires calculation of $\\int_s^t H(u,t) \\theta(y,u) du$. In relevant applications the drift function $\\theta(y,u)$ is an affine function of $y(u)$. In such situations we can calculate the integral.\n",
    "\n",
    "As an intermediate step we calculate $\\int_s^t H(u,t) y(u) du$. Using $y(u)=H(s,u) A H(s,u) + B$ yields\n",
    "\\begin{align}\n",
    "  \\int_s^t H(u,t) y(u) du\n",
    "  &= \\int_s^t H(u,t) \\left[ H(s,u) A H(s,u) + B \\right] du \\\\\n",
    "  &= \\int_s^t H(s,t) A H(s,u) du + \\int_s^t H(u,t)B du \\\\\n",
    "  &= H(s,t) A \\int_s^t H(s,u) du + \\int_s^t H(u,t) du B \\\\\n",
    "  &= H(s,t) A G(s,t) + G(s,t) B.\n",
    "\\end{align}\n",
    "\n",
    "We can also substitute back $A = y(s)-B$. This yields\n",
    "\\begin{align}\n",
    "  \\int_s^t H(u,t) y(u) du\n",
    "  &= H(s,t) \\left[ y(s) - B \\right] G(s,t) + G(s,t) B \\\\\n",
    "  &= H(s,t) y(s) G(s,t) - H(s,t) B G(s,t) + G(s,t) B \\\\\n",
    "  &= H(s,t) y(s) G(s,t) + \\left[G(s,t) B - H(s,t) B G(s,t) \\right].\n",
    "\\end{align}"
   ],
   "cell_type": "markdown",
   "metadata": {}
  },
  {
   "source": [
    "### Quasi Gaussian Model Drift and Expectation\n",
    "\n",
    "The drift term in Quasi Gaussian rates models is just $\\theta(y,t) = y(t) \\mathbb{1}$. This yields the conditional expectation\n",
    "$$\n",
    "  \\mathbb{E}_s\\left[x(t)\\right] = H(s,t) \\left[ x(s) + A G(s,t) \\mathbb{1} \\right] + G(s,t) B  \\mathbb{1}\n",
    "$$\n",
    "or equivalently\n",
    "$$\n",
    "  \\mathbb{E}_s\\left[x(t)\\right] = H(s,t) \\left[ x(s) + y(s) G(s,t) \\mathbb{1} \\right] + \\left[G(s,t) B - H(s,t)  B G(s,t) \\right] \\mathbb{1}.\n",
    "$$\n"
   ],
   "cell_type": "markdown",
   "metadata": {}
  },
  {
   "source": [
    "### Futures Model Drift and Expectation\n",
    "\n",
    "For Futures Model the drift is\n",
    "$\\theta(y,t) = \\frac{1}{2} \\left[ y(t)\\chi(t) - \\sigma(t)^\\top \\sigma(t) \\right] \\mathbb{1}$.\n",
    "We can use linearity of the integral operator and get\n",
    "\\begin{align}\n",
    "  \\int_s^t H(u,t) \\theta(y,u) du\n",
    "  &= \\int_s^t H(u,t) \\frac{1}{2} \\left[ y(t)\\chi(t) - \\sigma(t)^\\top \\sigma(t) \\right] \\mathbb{1} du \\\\\n",
    "  &= \\frac{1}{2} \\int_s^t H(u,t) \\left[ y(t)\\chi - V \\right] \\mathbb{1} du \\\\\n",
    "  &= \\frac{1}{2} \\left[ \\int_s^t H(u,t) y(t) du  \\chi\\mathbb{1} -  \\int_s^t H(u,t) du V  \\mathbb{1} \\right] \\\\\n",
    "  &= \\frac{1}{2} \\left\\{ \\left[ H(s,t) A G(s,t) + G(s,t) B \\right] \\chi\\mathbb{1} -  G(s,t) V  \\mathbb{1} \\right\\}.\n",
    "\\end{align}\n",
    "\n",
    "This gives the conditional expectation of the state variable as\n",
    "$$\n",
    "  \\mathbb{E}_s\\left[x(t)\\right] = H(s,t) x(s) +\n",
    "  \\frac{1}{2} \\left\\{ \\left[ H(s,t) A G(s,t) + G(s,t) B\\right] \\chi -  G(s,t) V \\right\\}\\mathbb{1}.\n",
    "$$\n",
    "\n"
   ],
   "cell_type": "markdown",
   "metadata": {}
  },
  {
   "source": [
    "## Futures Reconstruction\n",
    "\n",
    "Using the Markov Model representation the futures price $F(t,T)$ can be reconstructed from state variables $x(t)$ and auxilliary variables $y(t)$ via\n",
    "$$\n",
    "  F(t,T) = F(0,T) * e^{X(t,T)}\n",
    "$$\n",
    "with\n",
    "$$\n",
    "  X(t,T) = \\mathbb{1}^\\top H(t,T) \\left[ x(t) +\n",
    "      \\frac{1}{2} y(t) \\left(I - H(t,T)\\right)\\mathbb{1}\n",
    "      \\right].\n",
    "$$"
   ],
   "cell_type": "markdown",
   "metadata": {}
  },
  {
   "source": [
    "## Model Test"
   ],
   "cell_type": "markdown",
   "metadata": {}
  },
  {
   "cell_type": "code",
   "execution_count": null,
   "metadata": {},
   "outputs": [],
   "source": [
    "import sys\n",
    "sys.path.append('../')  # make python find our modules\n",
    "from hybmc.models.MarkovFutureModel import MarkovFutureModel"
   ]
  },
  {
   "source": [
    "We set up a simple 2-factor model."
   ],
   "cell_type": "markdown",
   "metadata": {}
  },
  {
   "cell_type": "code",
   "execution_count": null,
   "metadata": {},
   "outputs": [],
   "source": [
    "d = 2\n",
    "times = np.array([0.0])\n",
    "sigma = np.zeros([1,2,2])\n",
    "sigma[0,:,:] = np.array([[ 0.10, 0.15 ],\n",
    "                         [ 0.20, 0.25 ]])\n",
    "chi = np.array([0.10, 0.20])\n",
    "#\n",
    "model = MarkovFutureModel(None,d,times,sigma,chi) # future curve is not yet implemented"
   ]
  },
  {
   "source": [
    "Using the model we simulate the state variables."
   ],
   "cell_type": "markdown",
   "metadata": {}
  },
  {
   "cell_type": "code",
   "execution_count": null,
   "metadata": {},
   "outputs": [],
   "source": [
    "from hybmc.simulations.McSimulation import McSimulation\n",
    "times = np.linspace(0.0, 5.0, 2)\n",
    "nPaths = 2**13\n",
    "seed = 314159265359\n",
    "sim = McSimulation(model,times,nPaths,seed,False,showProgress=True)"
   ]
  },
  {
   "source": [
    "Now we can calculate futures prices and analyse the terminal distrivution."
   ],
   "cell_type": "markdown",
   "metadata": {}
  },
  {
   "cell_type": "code",
   "execution_count": null,
   "metadata": {},
   "outputs": [],
   "source": [
    "idx = -1\n",
    "t = times[idx]\n",
    "dT = 1.0\n",
    "T = t + dT\n",
    "F = np.array([ model.futurePrice(t,T,X,None) for X in sim.X[:,idx,:] ])\n",
    "Fav = np.mean(F)\n",
    "sigma = np.std(F) / np.sqrt(t)\n",
    "print('t: %6.2f, T: %6.2f, F: %6.4f, sigma: %6.4f' % (t,T,Fav,sigma) )"
   ]
  },
  {
   "cell_type": "code",
   "execution_count": null,
   "metadata": {},
   "outputs": [],
   "source": []
  }
 ]
}